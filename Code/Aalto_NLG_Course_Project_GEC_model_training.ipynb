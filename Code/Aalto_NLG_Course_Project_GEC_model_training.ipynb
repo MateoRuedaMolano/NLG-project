{
  "cells": [
    {
      "cell_type": "markdown",
      "metadata": {
        "id": "X4cRE8IbIrIV"
      },
      "source": [
        "# GEC model training\n",
        "\n",
        "This notebook is used to train a grammatical error correction model and generate test set predictions for the \"Recent Advances in Natural Language Generation\" course project.\n",
        "\n",
        "Important things to note:\n",
        "\n",
        "* Pay attention to code comments saying `!!! TODO !!!` as these indicate parts that you may need to update.\n",
        "* Before training your model, make sure that GPUs are enable for this notebook:\n",
        "  - Navigate to Edit→Notebook Settings\n",
        "  - Select GPU from the Hardware Accelerator drop-down\n",
        "\n",
        "This notebook is based on: https://github.com/huggingface/notebooks/blob/master/examples/summarization-tf.ipynb"
      ]
    },
    {
      "cell_type": "code",
      "execution_count": 1,
      "metadata": {
        "colab": {
          "base_uri": "https://localhost:8080/"
        },
        "id": "MOsHUjgdIrIW",
        "outputId": "b3ccbee2-7d66-4d92-cd51-3c66d70d3bbb"
      },
      "outputs": [
        {
          "output_type": "stream",
          "name": "stdout",
          "text": [
            "Requirement already satisfied: transformers[sentencepiece] in /usr/local/lib/python3.7/dist-packages (4.18.0)\n",
            "Requirement already satisfied: huggingface-hub<1.0,>=0.1.0 in /usr/local/lib/python3.7/dist-packages (from transformers[sentencepiece]) (0.5.1)\n",
            "Requirement already satisfied: importlib-metadata in /usr/local/lib/python3.7/dist-packages (from transformers[sentencepiece]) (4.11.3)\n",
            "Requirement already satisfied: requests in /usr/local/lib/python3.7/dist-packages (from transformers[sentencepiece]) (2.23.0)\n",
            "Requirement already satisfied: tokenizers!=0.11.3,<0.13,>=0.11.1 in /usr/local/lib/python3.7/dist-packages (from transformers[sentencepiece]) (0.11.6)\n",
            "Requirement already satisfied: regex!=2019.12.17 in /usr/local/lib/python3.7/dist-packages (from transformers[sentencepiece]) (2019.12.20)\n",
            "Requirement already satisfied: tqdm>=4.27 in /usr/local/lib/python3.7/dist-packages (from transformers[sentencepiece]) (4.63.0)\n",
            "Requirement already satisfied: filelock in /usr/local/lib/python3.7/dist-packages (from transformers[sentencepiece]) (3.6.0)\n",
            "Requirement already satisfied: pyyaml>=5.1 in /usr/local/lib/python3.7/dist-packages (from transformers[sentencepiece]) (6.0)\n",
            "Requirement already satisfied: packaging>=20.0 in /usr/local/lib/python3.7/dist-packages (from transformers[sentencepiece]) (21.3)\n",
            "Requirement already satisfied: sacremoses in /usr/local/lib/python3.7/dist-packages (from transformers[sentencepiece]) (0.0.49)\n",
            "Requirement already satisfied: numpy>=1.17 in /usr/local/lib/python3.7/dist-packages (from transformers[sentencepiece]) (1.21.5)\n",
            "Requirement already satisfied: protobuf in /usr/local/lib/python3.7/dist-packages (from transformers[sentencepiece]) (3.17.3)\n",
            "Requirement already satisfied: sentencepiece!=0.1.92,>=0.1.91 in /usr/local/lib/python3.7/dist-packages (from transformers[sentencepiece]) (0.1.96)\n",
            "Requirement already satisfied: typing-extensions>=3.7.4.3 in /usr/local/lib/python3.7/dist-packages (from huggingface-hub<1.0,>=0.1.0->transformers[sentencepiece]) (3.10.0.2)\n",
            "Requirement already satisfied: pyparsing!=3.0.5,>=2.0.2 in /usr/local/lib/python3.7/dist-packages (from packaging>=20.0->transformers[sentencepiece]) (3.0.7)\n",
            "Requirement already satisfied: zipp>=0.5 in /usr/local/lib/python3.7/dist-packages (from importlib-metadata->transformers[sentencepiece]) (3.7.0)\n",
            "Requirement already satisfied: six>=1.9 in /usr/local/lib/python3.7/dist-packages (from protobuf->transformers[sentencepiece]) (1.15.0)\n",
            "Requirement already satisfied: chardet<4,>=3.0.2 in /usr/local/lib/python3.7/dist-packages (from requests->transformers[sentencepiece]) (3.0.4)\n",
            "Requirement already satisfied: idna<3,>=2.5 in /usr/local/lib/python3.7/dist-packages (from requests->transformers[sentencepiece]) (2.10)\n",
            "Requirement already satisfied: urllib3!=1.25.0,!=1.25.1,<1.26,>=1.21.1 in /usr/local/lib/python3.7/dist-packages (from requests->transformers[sentencepiece]) (1.25.11)\n",
            "Requirement already satisfied: certifi>=2017.4.17 in /usr/local/lib/python3.7/dist-packages (from requests->transformers[sentencepiece]) (2021.10.8)\n",
            "Requirement already satisfied: click in /usr/local/lib/python3.7/dist-packages (from sacremoses->transformers[sentencepiece]) (7.1.2)\n",
            "Requirement already satisfied: joblib in /usr/local/lib/python3.7/dist-packages (from sacremoses->transformers[sentencepiece]) (1.1.0)\n",
            "Requirement already satisfied: datasets in /usr/local/lib/python3.7/dist-packages (2.0.0)\n",
            "Requirement already satisfied: xxhash in /usr/local/lib/python3.7/dist-packages (from datasets) (3.0.0)\n",
            "Requirement already satisfied: responses<0.19 in /usr/local/lib/python3.7/dist-packages (from datasets) (0.18.0)\n",
            "Requirement already satisfied: fsspec[http]>=2021.05.0 in /usr/local/lib/python3.7/dist-packages (from datasets) (2022.3.0)\n",
            "Requirement already satisfied: pyarrow>=5.0.0 in /usr/local/lib/python3.7/dist-packages (from datasets) (6.0.1)\n",
            "Requirement already satisfied: requests>=2.19.0 in /usr/local/lib/python3.7/dist-packages (from datasets) (2.23.0)\n",
            "Requirement already satisfied: numpy>=1.17 in /usr/local/lib/python3.7/dist-packages (from datasets) (1.21.5)\n",
            "Requirement already satisfied: multiprocess in /usr/local/lib/python3.7/dist-packages (from datasets) (0.70.12.2)\n",
            "Requirement already satisfied: packaging in /usr/local/lib/python3.7/dist-packages (from datasets) (21.3)\n",
            "Requirement already satisfied: aiohttp in /usr/local/lib/python3.7/dist-packages (from datasets) (3.8.1)\n",
            "Requirement already satisfied: tqdm>=4.62.1 in /usr/local/lib/python3.7/dist-packages (from datasets) (4.63.0)\n",
            "Requirement already satisfied: huggingface-hub<1.0.0,>=0.1.0 in /usr/local/lib/python3.7/dist-packages (from datasets) (0.5.1)\n",
            "Requirement already satisfied: importlib-metadata in /usr/local/lib/python3.7/dist-packages (from datasets) (4.11.3)\n",
            "Requirement already satisfied: dill in /usr/local/lib/python3.7/dist-packages (from datasets) (0.3.4)\n",
            "Requirement already satisfied: pandas in /usr/local/lib/python3.7/dist-packages (from datasets) (1.3.5)\n",
            "Requirement already satisfied: filelock in /usr/local/lib/python3.7/dist-packages (from huggingface-hub<1.0.0,>=0.1.0->datasets) (3.6.0)\n",
            "Requirement already satisfied: pyyaml in /usr/local/lib/python3.7/dist-packages (from huggingface-hub<1.0.0,>=0.1.0->datasets) (6.0)\n",
            "Requirement already satisfied: typing-extensions>=3.7.4.3 in /usr/local/lib/python3.7/dist-packages (from huggingface-hub<1.0.0,>=0.1.0->datasets) (3.10.0.2)\n",
            "Requirement already satisfied: pyparsing!=3.0.5,>=2.0.2 in /usr/local/lib/python3.7/dist-packages (from packaging->datasets) (3.0.7)\n",
            "Requirement already satisfied: certifi>=2017.4.17 in /usr/local/lib/python3.7/dist-packages (from requests>=2.19.0->datasets) (2021.10.8)\n",
            "Requirement already satisfied: idna<3,>=2.5 in /usr/local/lib/python3.7/dist-packages (from requests>=2.19.0->datasets) (2.10)\n",
            "Requirement already satisfied: urllib3!=1.25.0,!=1.25.1,<1.26,>=1.21.1 in /usr/local/lib/python3.7/dist-packages (from requests>=2.19.0->datasets) (1.25.11)\n",
            "Requirement already satisfied: chardet<4,>=3.0.2 in /usr/local/lib/python3.7/dist-packages (from requests>=2.19.0->datasets) (3.0.4)\n",
            "Requirement already satisfied: multidict<7.0,>=4.5 in /usr/local/lib/python3.7/dist-packages (from aiohttp->datasets) (6.0.2)\n",
            "Requirement already satisfied: attrs>=17.3.0 in /usr/local/lib/python3.7/dist-packages (from aiohttp->datasets) (21.4.0)\n",
            "Requirement already satisfied: aiosignal>=1.1.2 in /usr/local/lib/python3.7/dist-packages (from aiohttp->datasets) (1.2.0)\n",
            "Requirement already satisfied: yarl<2.0,>=1.0 in /usr/local/lib/python3.7/dist-packages (from aiohttp->datasets) (1.7.2)\n",
            "Requirement already satisfied: charset-normalizer<3.0,>=2.0 in /usr/local/lib/python3.7/dist-packages (from aiohttp->datasets) (2.0.12)\n",
            "Requirement already satisfied: async-timeout<5.0,>=4.0.0a3 in /usr/local/lib/python3.7/dist-packages (from aiohttp->datasets) (4.0.2)\n",
            "Requirement already satisfied: frozenlist>=1.1.1 in /usr/local/lib/python3.7/dist-packages (from aiohttp->datasets) (1.3.0)\n",
            "Requirement already satisfied: asynctest==0.13.0 in /usr/local/lib/python3.7/dist-packages (from aiohttp->datasets) (0.13.0)\n",
            "Requirement already satisfied: zipp>=0.5 in /usr/local/lib/python3.7/dist-packages (from importlib-metadata->datasets) (3.7.0)\n",
            "Requirement already satisfied: python-dateutil>=2.7.3 in /usr/local/lib/python3.7/dist-packages (from pandas->datasets) (2.8.2)\n",
            "Requirement already satisfied: pytz>=2017.3 in /usr/local/lib/python3.7/dist-packages (from pandas->datasets) (2018.9)\n",
            "Requirement already satisfied: six>=1.5 in /usr/local/lib/python3.7/dist-packages (from python-dateutil>=2.7.3->pandas->datasets) (1.15.0)\n",
            "Requirement already satisfied: rouge-score in /usr/local/lib/python3.7/dist-packages (0.0.4)\n",
            "Requirement already satisfied: nltk in /usr/local/lib/python3.7/dist-packages (3.2.5)\n",
            "Requirement already satisfied: numpy in /usr/local/lib/python3.7/dist-packages (from rouge-score) (1.21.5)\n",
            "Requirement already satisfied: six>=1.14.0 in /usr/local/lib/python3.7/dist-packages (from rouge-score) (1.15.0)\n",
            "Requirement already satisfied: absl-py in /usr/local/lib/python3.7/dist-packages (from rouge-score) (1.0.0)\n",
            "Requirement already satisfied: jiwer in /usr/local/lib/python3.7/dist-packages (2.3.0)\n",
            "Requirement already satisfied: python-Levenshtein==0.12.2 in /usr/local/lib/python3.7/dist-packages (from jiwer) (0.12.2)\n",
            "Requirement already satisfied: setuptools in /usr/local/lib/python3.7/dist-packages (from python-Levenshtein==0.12.2->jiwer) (57.4.0)\n"
          ]
        }
      ],
      "source": [
        "! pip install transformers[sentencepiece]\n",
        "! pip install datasets\n",
        "! pip install rouge-score nltk\n",
        "! pip install jiwer"
      ]
    },
    {
      "cell_type": "code",
      "execution_count": 2,
      "metadata": {
        "id": "oZ_MVGY7mKDt"
      },
      "outputs": [],
      "source": [
        "from datasets import load_metric\n",
        "from datasets import Dataset\n",
        "from google.colab import files\n",
        "import numpy as np\n",
        "import nltk\n",
        "import time\n",
        "import transformers\n",
        "from transformers import AutoTokenizer\n",
        "from transformers import TFAutoModelForSeq2SeqLM, DataCollatorForSeq2Seq\n",
        "from tqdm.auto import tqdm\n",
        "from typing import Optional, Sequence"
      ]
    },
    {
      "cell_type": "code",
      "execution_count": 3,
      "metadata": {
        "colab": {
          "base_uri": "https://localhost:8080/"
        },
        "id": "QyvjoJ8kuXo5",
        "outputId": "5074f109-add3-43c2-b9a7-5a8b6cbe5c3a"
      },
      "outputs": [
        {
          "output_type": "stream",
          "name": "stdout",
          "text": [
            "[nltk_data] Downloading package punkt to /root/nltk_data...\n",
            "[nltk_data]   Package punkt is already up-to-date!\n"
          ]
        },
        {
          "output_type": "execute_result",
          "data": {
            "text/plain": [
              "True"
            ]
          },
          "metadata": {},
          "execution_count": 3
        }
      ],
      "source": [
        "nltk.download('punkt')"
      ]
    },
    {
      "cell_type": "markdown",
      "metadata": {
        "id": "whPRbBNbIrIl"
      },
      "source": [
        "## Loading the dataset"
      ]
    },
    {
      "cell_type": "code",
      "source": [
        "def read_dataset(path: str, contains_targets: bool = True) -> Dataset:\n",
        "  \"\"\"Reads in data from a text/tsv file and returns a Huggingface dataset.\n",
        "\n",
        "  Each line of the file should contain a source-target pair separated by a tab\n",
        "  when `contains_targets` is True. When it's False, each line should contain\n",
        "  just a source (used for the test set that doesn't have targets).\n",
        "  \"\"\"\n",
        "  sources = []\n",
        "  target_lists = []\n",
        "  with open(path) as f:\n",
        "    for line in f:\n",
        "      line = line.rstrip('\\n')\n",
        "      if contains_targets:\n",
        "        source, target = line.split('\\t')\n",
        "      else:\n",
        "        source, target = line, ''\n",
        "      sources.append(source)\n",
        "      target_lists.append([target])\n",
        "  features = {\"sentence\": sources, \"corrections\": target_lists}\n",
        "  return Dataset.from_dict(features)\n",
        "\n",
        "\n",
        "def read_dataset2(path: str, contains_targets: bool = True) -> Dataset:\n",
        "  \"\"\"Reads in data from a text/tsv file and returns a Huggingface dataset.\n",
        "\n",
        "  Each line of the file should contain a source-target pair separated by a tab\n",
        "  when `contains_targets` is True. When it's False, each line should contain\n",
        "  just a source (used for the test set that doesn't have targets).\n",
        "  \"\"\"\n",
        "  sources = []\n",
        "  target_lists = []\n",
        "  with open(path, 'rb') as f:\n",
        "    for line in f:\n",
        "      line = line.rstrip(b'\\n')\n",
        "      line = line.rstrip(b'\"\\r')\n",
        "      if contains_targets:\n",
        "        try:\n",
        "            source, target = line.split(b'\\t')\n",
        "            source = source.decode()\n",
        "            if source[0] == '\\\"':\n",
        "                source = source[1:]\n",
        "            target = target.decode()\n",
        "        except:\n",
        "            continue\n",
        "      else:\n",
        "        source, target = line, ''\n",
        "      sources.append([source])\n",
        "      target_lists.append(target)\n",
        "  features = {\"sentence\": target_lists, \"corrections\": sources}\n",
        "  return Dataset.from_dict(features)"
      ],
      "metadata": {
        "id": "sXDI6B6JkWG6"
      },
      "execution_count": 4,
      "outputs": []
    },
    {
      "cell_type": "code",
      "source": [
        "from google.colab import drive\n",
        "drive.mount('/content/drive')"
      ],
      "metadata": {
        "id": "QE21Be70uVqr",
        "outputId": "c4205b33-3ef2-478b-b3c7-e5905b2f7b47",
        "colab": {
          "base_uri": "https://localhost:8080/"
        }
      },
      "execution_count": 5,
      "outputs": [
        {
          "output_type": "stream",
          "name": "stdout",
          "text": [
            "Drive already mounted at /content/drive; to attempt to forcibly remount, call drive.mount(\"/content/drive\", force_remount=True).\n"
          ]
        }
      ]
    },
    {
      "cell_type": "code",
      "source": [
        "# Download a small sample of the cLang-8 dataset \n",
        "# (full data at: https://github.com/google-research-datasets/clang8).\n",
        "! wget https://emalmi.kapsi.fi/gec/clang8_en_10k_sample.tsv\n",
        "! wget https://emalmi.kapsi.fi/gec/clang8_en_100_test_sample.tsv"
      ],
      "metadata": {
        "colab": {
          "base_uri": "https://localhost:8080/"
        },
        "id": "JE_XZBU24Qfk",
        "outputId": "236d7f27-d59b-4f5e-bb63-d79702134c2d"
      },
      "execution_count": 6,
      "outputs": [
        {
          "output_type": "stream",
          "name": "stdout",
          "text": [
            "--2022-04-11 14:06:28--  https://emalmi.kapsi.fi/gec/clang8_en_10k_sample.tsv\n",
            "Resolving emalmi.kapsi.fi (emalmi.kapsi.fi)... 91.232.155.81, 2001:67c:1be8:1337::443\n",
            "Connecting to emalmi.kapsi.fi (emalmi.kapsi.fi)|91.232.155.81|:443... connected.\n",
            "HTTP request sent, awaiting response... 200 OK\n",
            "Length: 1081663 (1.0M) [text/tab-separated-values]\n",
            "Saving to: ‘clang8_en_10k_sample.tsv.5’\n",
            "\n",
            "clang8_en_10k_sampl 100%[===================>]   1.03M  5.22MB/s    in 0.2s    \n",
            "\n",
            "2022-04-11 14:06:28 (5.22 MB/s) - ‘clang8_en_10k_sample.tsv.5’ saved [1081663/1081663]\n",
            "\n",
            "--2022-04-11 14:06:28--  https://emalmi.kapsi.fi/gec/clang8_en_100_test_sample.tsv\n",
            "Resolving emalmi.kapsi.fi (emalmi.kapsi.fi)... 91.232.155.81, 2001:67c:1be8:1337::443\n",
            "Connecting to emalmi.kapsi.fi (emalmi.kapsi.fi)|91.232.155.81|:443... connected.\n",
            "HTTP request sent, awaiting response... 200 OK\n",
            "Length: 10069 (9.8K) [text/tab-separated-values]\n",
            "Saving to: ‘clang8_en_100_test_sample.tsv.5’\n",
            "\n",
            "clang8_en_100_test_ 100%[===================>]   9.83K  --.-KB/s    in 0s      \n",
            "\n",
            "2022-04-11 14:06:28 (343 MB/s) - ‘clang8_en_100_test_sample.tsv.5’ saved [10069/10069]\n",
            "\n"
          ]
        }
      ]
    },
    {
      "cell_type": "code",
      "source": [
        "# !!! TODO !!! Instead of this cLang-8 training data, you should upload the\n",
        "# dataset you've generated yourself. You can use `uploaded = files.upload()` to\n",
        "# upload a locally stored dataset.\n",
        "DatasetAll = read_dataset2('./Dataset1302050.tsv')\n",
        "#Shuffle the dataset \n",
        "DatasetAll = DatasetAll.shuffle(seed=42)\n",
        "\n",
        "dataDict = DatasetAll.train_test_split(train_size = 0.05, test_size=0.0001)\n",
        "training_set = dataDict['train']\n",
        "validation_set =dataDict['test']"
      ],
      "metadata": {
        "id": "KxrPkbr53bxj"
      },
      "execution_count": 7,
      "outputs": []
    },
    {
      "cell_type": "code",
      "execution_count": 8,
      "metadata": {
        "colab": {
          "base_uri": "https://localhost:8080/"
        },
        "id": "GWiVUF0jIrIv",
        "outputId": "9b10e5e6-3128-4bfd-8011-20cdee94f939"
      },
      "outputs": [
        {
          "output_type": "execute_result",
          "data": {
            "text/plain": [
              "Dataset({\n",
              "    features: ['sentence', 'corrections'],\n",
              "    num_rows: 102216\n",
              "})"
            ]
          },
          "metadata": {},
          "execution_count": 8
        }
      ],
      "source": [
        "training_set"
      ]
    },
    {
      "cell_type": "markdown",
      "metadata": {
        "id": "u3EtYfeHIrIz"
      },
      "source": [
        "An example element from the training set:"
      ]
    },
    {
      "cell_type": "code",
      "execution_count": 9,
      "metadata": {
        "colab": {
          "base_uri": "https://localhost:8080/"
        },
        "id": "X6HrpprwIrIz",
        "outputId": "ddc3b940-dc1c-4e2a-d19d-7f346c3f8f92"
      },
      "outputs": [
        {
          "output_type": "execute_result",
          "data": {
            "text/plain": [
              "{'corrections': ['Sakal Arrondissement is an arrondissement of the Louga Department in the Louga Region of Senegal.'],\n",
              " 'sentence': 'Sakal Arrondissement is an before can Arrondissement of the Louga Department ins the Louga Region of Senegal.'}"
            ]
          },
          "metadata": {},
          "execution_count": 9
        }
      ],
      "source": [
        "training_set[984]"
      ]
    },
    {
      "cell_type": "markdown",
      "metadata": {
        "id": "lnjDIuQ3IrI-"
      },
      "source": [
        "Load a metric to evaluate your model during training. The metric is an instance of [`datasets.Metric`](https://huggingface.co/docs/datasets/package_reference/main_classes.html#datasets.Metric):"
      ]
    },
    {
      "cell_type": "code",
      "execution_count": 10,
      "metadata": {
        "colab": {
          "base_uri": "https://localhost:8080/"
        },
        "id": "5o4rUteaIrI_",
        "outputId": "10e0e066-6fa4-4875-a5a7-c67367f3d2ff"
      },
      "outputs": [
        {
          "output_type": "execute_result",
          "data": {
            "text/plain": [
              "Metric(name: \"wer\", features: {'predictions': Value(dtype='string', id='sequence'), 'references': Value(dtype='string', id='sequence')}, usage: \"\"\"\n",
              "Compute WER score of transcribed segments against references.\n",
              "\n",
              "Args:\n",
              "    references: List of references for each speech input.\n",
              "    predictions: List of transcriptions to score.\n",
              "    concatenate_texts (bool, default=False): Whether to concatenate all input texts or compute WER iteratively.\n",
              "\n",
              "Returns:\n",
              "    (float): the word error rate\n",
              "\n",
              "Examples:\n",
              "\n",
              "    >>> predictions = [\"this is the prediction\", \"there is an other sample\"]\n",
              "    >>> references = [\"this is the reference\", \"there is another one\"]\n",
              "    >>> wer = datasets.load_metric(\"wer\")\n",
              "    >>> wer_score = wer.compute(predictions=predictions, references=references)\n",
              "    >>> print(wer_score)\n",
              "    0.5\n",
              "\"\"\", stored examples: 0)"
            ]
          },
          "metadata": {},
          "execution_count": 10
        }
      ],
      "source": [
        "metric = load_metric(\"wer\")\n",
        "metric"
      ]
    },
    {
      "cell_type": "markdown",
      "metadata": {
        "id": "jAWdqcUBIrJC"
      },
      "source": [
        "You can call its `compute` method with your predictions and labels, which need to be list of decoded strings:"
      ]
    },
    {
      "cell_type": "markdown",
      "source": [
        "# Load Pre-Trained Model\n",
        "\n",
        "Evaluate your model with `t5-small`. Additionally, you're welcome to try out other models / model sizes."
      ],
      "metadata": {
        "id": "LNrK55U8Eai9"
      }
    },
    {
      "cell_type": "code",
      "execution_count": 11,
      "metadata": {
        "colab": {
          "base_uri": "https://localhost:8080/"
        },
        "id": "e1OF5Rs1tcJ_",
        "outputId": "a456ae82-758a-4ffe-9d9d-34f346ac5354"
      },
      "outputs": [
        {
          "output_type": "stream",
          "name": "stderr",
          "text": [
            "All model checkpoint layers were used when initializing TFT5ForConditionalGeneration.\n",
            "\n",
            "All the layers of TFT5ForConditionalGeneration were initialized from the model checkpoint at t5-small.\n",
            "If your task is similar to the task the model of the checkpoint was trained on, you can already use TFT5ForConditionalGeneration for predictions without further training.\n"
          ]
        }
      ],
      "source": [
        "model_checkpoint = 't5-small'\n",
        "\n",
        "# Other pre-trained checkpoints you may want to try:\n",
        "# model_checkpoint = 'google/t5-v1_1-small'\n",
        "# model_checkpoint = 'google/t5-v1_1-base'\n",
        "\n",
        "model = TFAutoModelForSeq2SeqLM.from_pretrained(model_checkpoint)"
      ]
    },
    {
      "cell_type": "markdown",
      "metadata": {
        "id": "n9qywopnIrJH"
      },
      "source": [
        "## Preprocessing the data"
      ]
    },
    {
      "cell_type": "markdown",
      "metadata": {
        "id": "YVx71GdAIrJH"
      },
      "source": [
        "Before we can feed those texts to our model, we need to preprocess them. This is done by a 🤗 Transformers `Tokenizer` which will (as the name indicates) tokenize the inputs (including converting the tokens to their corresponding IDs in the pretrained vocabulary) and put it in a format the model expects, as well as generate the other inputs that the model requires.\n",
        "\n",
        "To do all of this, we instantiate our tokenizer with the `AutoTokenizer.from_pretrained` method, which will ensure:\n",
        "\n",
        "- we get a tokenizer that corresponds to the model architecture we want to use,\n",
        "- we download the vocabulary used when pretraining this specific checkpoint.\n",
        "\n",
        "That vocabulary will be cached, so it's not downloaded again the next time we run the cell."
      ]
    },
    {
      "cell_type": "code",
      "execution_count": 12,
      "metadata": {
        "id": "eXNLu_-nIrJI"
      },
      "outputs": [],
      "source": [
        "tokenizer = AutoTokenizer.from_pretrained(model_checkpoint)"
      ]
    },
    {
      "cell_type": "markdown",
      "metadata": {
        "id": "rowT4iCLIrJK"
      },
      "source": [
        "You can directly call this tokenizer on one sentence or a pair of sentences:"
      ]
    },
    {
      "cell_type": "code",
      "execution_count": 13,
      "metadata": {
        "colab": {
          "base_uri": "https://localhost:8080/"
        },
        "id": "a5hBlsrHIrJL",
        "outputId": "ed0120fc-c16b-4de1-fcec-40f20a643d55"
      },
      "outputs": [
        {
          "output_type": "execute_result",
          "data": {
            "text/plain": [
              "{'input_ids': [27, 43, 3, 21043, 300, 167, 13, 1611, 1440, 11, 27, 36, 3, 179, 12, 1705, 3, 6, 2508, 11, 3, 210, 13224, 29, 1385, 386, 8024, 3, 10, 5093, 3, 6, 1566, 11, 2379, 3, 5, 1], 'attention_mask': [1, 1, 1, 1, 1, 1, 1, 1, 1, 1, 1, 1, 1, 1, 1, 1, 1, 1, 1, 1, 1, 1, 1, 1, 1, 1, 1, 1, 1, 1, 1, 1, 1, 1, 1, 1, 1, 1]}"
            ]
          },
          "metadata": {},
          "execution_count": 13
        }
      ],
      "source": [
        "tokenizer(\"I have travelled around most of European countries and I be able to understanding , talking and writin highly three languages : Spanish , English and French .\")"
      ]
    },
    {
      "cell_type": "markdown",
      "metadata": {
        "id": "U_6rrNx_Rw82"
      },
      "source": [
        "To prepare the targets for our model, we need to tokenize them inside the `as_target_tokenizer` context manager. This will make sure the tokenizer uses the special tokens corresponding to the targets:"
      ]
    },
    {
      "cell_type": "code",
      "execution_count": 14,
      "metadata": {
        "colab": {
          "base_uri": "https://localhost:8080/"
        },
        "id": "jAKFyf2VRw82",
        "outputId": "ac18e08c-aae4-4436-b88a-8e33a3594cc5"
      },
      "outputs": [
        {
          "output_type": "stream",
          "name": "stdout",
          "text": [
            "{'input_ids': [[8774, 6, 48, 19, 3, 9, 7142, 55, 1], [100, 19, 430, 7142, 5, 1]], 'attention_mask': [[1, 1, 1, 1, 1, 1, 1, 1, 1], [1, 1, 1, 1, 1, 1]]}\n"
          ]
        }
      ],
      "source": [
        "with tokenizer.as_target_tokenizer():\n",
        "  print(tokenizer([\"Hello, this is a sentence!\", \"This is another sentence.\"]))"
      ]
    },
    {
      "cell_type": "markdown",
      "metadata": {
        "id": "DV27HsBwRw82"
      },
      "source": [
        "We can then write the function that will preprocess our samples. We just feed them to the `tokenizer` with the argument `truncation=True`. This will ensure that an input longer that what the model selected can handle will be truncated to the maximum length accepted by the model. The padding will be dealt with later on (in a data collator) so we pad examples to the longest length in the batch and not the whole dataset."
      ]
    },
    {
      "cell_type": "code",
      "execution_count": 15,
      "metadata": {
        "id": "vc0BSBLIIrJQ"
      },
      "outputs": [],
      "source": [
        "max_input_length = 128\n",
        "max_target_length = 128\n",
        "\n",
        "\n",
        "def preprocess_function(examples):\n",
        "  inputs = [doc for doc in examples[\"sentence\"]]\n",
        "  model_inputs = tokenizer(inputs, max_length=max_input_length, truncation=True)\n",
        "\n",
        "  # Setup the tokenizer for targets\n",
        "  with tokenizer.as_target_tokenizer():\n",
        "    labels = [corr[0] for corr in examples[\"corrections\"]]\n",
        "    labels = tokenizer(labels, max_length=max_target_length, truncation=True)\n",
        "\n",
        "  model_inputs[\"labels\"] = labels[\"input_ids\"]\n",
        "  return model_inputs"
      ]
    },
    {
      "cell_type": "code",
      "execution_count": 16,
      "metadata": {
        "colab": {
          "base_uri": "https://localhost:8080/",
          "height": 81,
          "referenced_widgets": [
            "ab5bb50458e8468d963a7b8396999206",
            "142a63e2c3484ac8890c280ca7e1b1a8",
            "ab1eaf43402a4f2aa67f569ded6242a6",
            "03eadc0e642d4ee497194602cf50d43f",
            "dd3fda561c63463bb4714eb273f2d9f8",
            "b9d3e70a31444aaead0c85a0203ff640",
            "72b4047371494b31bb587e712e6acda7",
            "ab29df5dcfe74a329c00ed4713918c15",
            "2eec676cff824a8cb9a0ab5c0074b4aa",
            "5df15fe72e724a509f41034f554f717f",
            "b794db96cad64d99a8fef5ee24245946",
            "ec1550d64c7449a0bec394f4ce7adc51",
            "6421342be04646df9da84dde47bcb973",
            "57401d7b369b46d2a2b86597ac6dcb41",
            "b04fc6d6e90d4cb9a6b109221d07d40c",
            "936cc71cd4f84db08821a715d440b739",
            "b9bc197f12dd43d18b970f1ede52d73b",
            "2fd83b2e07e8428caacccfeba4438d29",
            "f07116dad6644adea3701b71e65654d6",
            "d72cbce9d16949adbed381de578de475",
            "87e6deb2001c453fab80435de3685f76",
            "ae46c60c618d4a40ba7b64106bcc574c"
          ]
        },
        "id": "DDtsaJeVIrJT",
        "outputId": "a6882879-4750-4233-da45-dd06e383112e"
      },
      "outputs": [
        {
          "output_type": "display_data",
          "data": {
            "text/plain": [
              "  0%|          | 0/103 [00:00<?, ?ba/s]"
            ],
            "application/vnd.jupyter.widget-view+json": {
              "version_major": 2,
              "version_minor": 0,
              "model_id": "ab5bb50458e8468d963a7b8396999206"
            }
          },
          "metadata": {}
        },
        {
          "output_type": "display_data",
          "data": {
            "text/plain": [
              "  0%|          | 0/1 [00:00<?, ?ba/s]"
            ],
            "application/vnd.jupyter.widget-view+json": {
              "version_major": 2,
              "version_minor": 0,
              "model_id": "ec1550d64c7449a0bec394f4ce7adc51"
            }
          },
          "metadata": {}
        }
      ],
      "source": [
        "tokenized_training_set = training_set.map(preprocess_function, batched=True)\n",
        "tokenized_validation_set = validation_set.map(preprocess_function, batched=True)"
      ]
    },
    {
      "cell_type": "code",
      "source": [
        "model.config.max_length=128"
      ],
      "metadata": {
        "id": "z-gHLRfZb0E-"
      },
      "execution_count": 17,
      "outputs": []
    },
    {
      "cell_type": "markdown",
      "metadata": {
        "id": "voWiw8C7IrJV"
      },
      "source": [
        "The results are automatically cached by the 🤗 Datasets library to avoid spending time on this step the next time you run your notebook. The 🤗 Datasets library is normally smart enough to detect when the function you pass to map has changed (and thus requires to not use the cache data). For instance, it will properly detect if you change the task in the first cell and rerun the notebook. 🤗 Datasets warns you when it uses cached files, you can pass `load_from_cache_file=False` in the call to `map` to not use the cached files and force the preprocessing to be applied again.\n",
        "\n",
        "Note that we passed `batched=True` to encode the texts by batches together. This is to leverage the full benefit of the fast tokenizer we loaded earlier, which will use multi-threading to treat the texts in a batch concurrently."
      ]
    },
    {
      "cell_type": "markdown",
      "metadata": {
        "id": "545PP3o8IrJV"
      },
      "source": [
        "## Fine-tuning the model"
      ]
    },
    {
      "cell_type": "code",
      "execution_count": 18,
      "metadata": {
        "id": "Bliy8zgjIrJY"
      },
      "outputs": [],
      "source": [
        "# !!! TODO !!! You're welcome to tune the following hyper-parameters but it's\n",
        "# also fine to use the following default values.\n",
        "batch_size = 80\n",
        "learning_rate = 1e-3\n",
        "# learning_rate = 2e-5\n",
        "weight_decay = 0.01\n",
        "num_train_epochs = 2"
      ]
    },
    {
      "cell_type": "markdown",
      "metadata": {
        "id": "km3pGVdTIrJc"
      },
      "source": [
        "Then, we need a special kind of data collator, which will not only pad the inputs to the maximum length in the batch, but also the labels. Note that our data collators are multi-framework, so make sure you set `return_tensors='tf'` so you get `tf.Tensor` objects back and not something else!"
      ]
    },
    {
      "cell_type": "code",
      "execution_count": 19,
      "metadata": {
        "id": "9JTlMxm4Rw83"
      },
      "outputs": [],
      "source": [
        "data_collator = DataCollatorForSeq2Seq(tokenizer, model=model,\n",
        "                                       return_tensors=\"tf\")"
      ]
    },
    {
      "cell_type": "code",
      "source": [
        "validation_set"
      ],
      "metadata": {
        "id": "bCIR7NalzEav",
        "outputId": "65036b34-89aa-49f1-c26a-c8858f4a35ab",
        "colab": {
          "base_uri": "https://localhost:8080/"
        }
      },
      "execution_count": 20,
      "outputs": [
        {
          "output_type": "execute_result",
          "data": {
            "text/plain": [
              "Dataset({\n",
              "    features: ['sentence', 'corrections'],\n",
              "    num_rows: 205\n",
              "})"
            ]
          },
          "metadata": {},
          "execution_count": 20
        }
      ]
    },
    {
      "cell_type": "markdown",
      "metadata": {
        "id": "lFL1YNKBRw83"
      },
      "source": [
        "Now we convert our input datasets to TF datasets using this collator. There's a built-in method for this: `to_tf_dataset()`. Make sure to specify the collator we just created as our `collate_fn`!\n",
        "\n",
        "Computing the `ROUGE` metric can be slow because it requires the model to generate outputs token-by-token. To speed things up, we make a `generation_dataset` that contains only 200 examples from the validation dataset, and use this for `ROUGE` computations."
      ]
    },
    {
      "cell_type": "code",
      "execution_count": 21,
      "metadata": {
        "id": "E_1aeQ03Rw83"
      },
      "outputs": [],
      "source": [
        "tf_training_set = tokenized_training_set.to_tf_dataset(\n",
        "    batch_size=batch_size,\n",
        "    columns=[\"input_ids\", \"attention_mask\", \"labels\"],\n",
        "    shuffle=True,\n",
        "    collate_fn=data_collator,\n",
        ")\n",
        "tf_validation_set = tokenized_validation_set.to_tf_dataset(\n",
        "    batch_size=8,\n",
        "    columns=[\"input_ids\", \"attention_mask\", \"labels\"],\n",
        "    shuffle=False,\n",
        "    collate_fn=data_collator,\n",
        ")"
      ]
    },
    {
      "cell_type": "markdown",
      "metadata": {
        "id": "apRmrOtvRw84"
      },
      "source": [
        "Now we initialize our loss and optimizer and compile the model. Note that most Transformers models compute loss internally - we can train on this as our loss value simply by not specifying a loss when we `compile()`."
      ]
    },
    {
      "cell_type": "code",
      "execution_count": 22,
      "metadata": {
        "colab": {
          "base_uri": "https://localhost:8080/"
        },
        "id": "0LqDEsxnRw84",
        "outputId": "430bcb18-bc6c-4403-ef68-2f862bbab28e"
      },
      "outputs": [
        {
          "output_type": "stream",
          "name": "stderr",
          "text": [
            "No loss specified in compile() - the model's internal loss computation will be used as the loss. Don't panic - this is a common way to train TensorFlow models in Transformers! To disable this behaviour, please pass a loss argument, or explicitly pass `loss=None` if you do not want your model to compute a loss.\n"
          ]
        }
      ],
      "source": [
        "from transformers import AdamWeightDecay\n",
        "import tensorflow as tf\n",
        "\n",
        "optimizer = AdamWeightDecay(learning_rate=learning_rate, weight_decay_rate=weight_decay)\n",
        "model.compile(optimizer=optimizer)"
      ]
    },
    {
      "cell_type": "markdown",
      "metadata": {
        "id": "7sZOdRlRIrJd"
      },
      "source": [
        "Now we can train our model. We add KerasMetricCallback to compute advanced metrics. There are a number of common metrics in NLP like ROUGE which are hard to fit into your compiled training loop because they depend on decoding predictions and labels back to strings with the tokenizer, and calling arbitrary Python functions to compute the metric. The KerasMetricCallback will wrap a metric function, outputting metrics as training progresses.\n",
        "\n",
        "This callback allows complex metrics to be computed each epoch that would not function as a standard Keras Metric. Metric values are printed each epoch, and can be used by other callbacks like `TensorBoard` or `EarlyStopping`."
      ]
    },
    {
      "cell_type": "code",
      "execution_count": 23,
      "metadata": {
        "id": "91ImGDmPRw84"
      },
      "outputs": [],
      "source": [
        "def metric_fn(eval_predictions):\n",
        "  predictions, labels = eval_predictions\n",
        "  for prediction in predictions:\n",
        "    prediction[prediction < 0] = tokenizer.pad_token_id  # Replace masked label tokens\n",
        "  decoded_predictions = tokenizer.batch_decode(predictions, skip_special_tokens=True)\n",
        "  for label in labels:\n",
        "    label[label < 0] = tokenizer.pad_token_id  # Replace masked label tokens\n",
        "  decoded_labels = tokenizer.batch_decode(labels, skip_special_tokens=True)\n",
        "  result = {\"wer\": metric.compute(predictions=decoded_predictions,\n",
        "                                  references=decoded_labels)}\n",
        "  # Add mean generated length\n",
        "  prediction_lens = [\n",
        "      np.count_nonzero(pred != tokenizer.pad_token_id) for pred in predictions\n",
        "  ]\n",
        "  result[\"gen_len\"] = np.mean(prediction_lens)\n",
        "\n",
        "  return result"
      ]
    },
    {
      "cell_type": "code",
      "execution_count": 24,
      "metadata": {
        "colab": {
          "base_uri": "https://localhost:8080/"
        },
        "id": "3JNK-Mg3_4E_",
        "outputId": "f9e95e62-e5ab-4946-ea1d-68ea23da8e5b"
      },
      "outputs": [
        {
          "output_type": "stream",
          "name": "stderr",
          "text": [
            "WARNING:root:No label_cols specified for KerasMetricCallback, assuming you want the 'labels' key.\n"
          ]
        },
        {
          "output_type": "stream",
          "name": "stdout",
          "text": [
            "Epoch 1/2\n",
            "1277/1277 [==============================] - 1696s 1s/step - loss: 0.5325 - val_loss: 0.3830 - wer: 0.1135 - gen_len: 31.9171\n",
            "Epoch 2/2\n",
            "1277/1277 [==============================] - 1675s 1s/step - loss: 0.4197 - val_loss: 0.3553 - wer: 0.1062 - gen_len: 31.8390\n",
            "CPU times: user 35min 39s, sys: 7min, total: 42min 39s\n",
            "Wall time: 56min 11s\n"
          ]
        }
      ],
      "source": [
        "%%time\n",
        "\n",
        "from transformers.keras_callbacks import KerasMetricCallback\n",
        "\n",
        "metric_callback = KerasMetricCallback(\n",
        "    metric_fn, eval_dataset=tf_validation_set, predict_with_generate=True\n",
        ")\n",
        "callbacks = [metric_callback]\n",
        "\n",
        "model.fit(\n",
        "    tf_training_set, validation_data=tf_validation_set, epochs=num_train_epochs,\n",
        "    callbacks=callbacks\n",
        ")"
      ]
    },
    {
      "cell_type": "code",
      "source": [
        "model"
      ],
      "metadata": {
        "id": "V1c0vcTU4MHf",
        "colab": {
          "base_uri": "https://localhost:8080/"
        },
        "outputId": "20ab0325-63fd-45c6-fa45-4de282dff7c8"
      },
      "execution_count": 25,
      "outputs": [
        {
          "output_type": "execute_result",
          "data": {
            "text/plain": [
              "<transformers.models.t5.modeling_tf_t5.TFT5ForConditionalGeneration at 0x7f5a24b1bad0>"
            ]
          },
          "metadata": {},
          "execution_count": 25
        }
      ]
    },
    {
      "cell_type": "code",
      "source": [
        "def run_inference(model, dataset, tokenizer):\n",
        "  all_sources = []\n",
        "  all_predictions = []\n",
        "  for i, batch in enumerate(dataset):\n",
        "    print(f'Batch: {i}')\n",
        "    attention_mask = batch[\"attention_mask\"]\n",
        "    predictions = model.generate(batch['input_ids'],\n",
        "                                 attention_mask=attention_mask)\n",
        "    decoded_predictions = tokenizer.batch_decode(predictions,\n",
        "                                                 skip_special_tokens=True)\n",
        "    all_predictions.extend(decoded_predictions)\n",
        "    all_sources.extend(tokenizer.batch_decode(batch['input_ids'],\n",
        "                                              skip_special_tokens=True))\n",
        "  return all_sources, all_predictions"
      ],
      "metadata": {
        "id": "aOjoSm7XHSTh"
      },
      "execution_count": 26,
      "outputs": []
    },
    {
      "cell_type": "code",
      "source": [
        "sources, predictions = run_inference(model, tf_validation_set, tokenizer)\n",
        "for source, pred in zip(sources, predictions):\n",
        "  print(f'Source:     {source}')\n",
        "  print(f'Prediction: {pred}\\n')"
      ],
      "metadata": {
        "id": "ZQmlI1tMJVP3",
        "colab": {
          "base_uri": "https://localhost:8080/"
        },
        "outputId": "37348761-fffd-49ef-e852-64caa1cab2b3"
      },
      "execution_count": 27,
      "outputs": [
        {
          "output_type": "stream",
          "name": "stdout",
          "text": [
            "Batch: 0\n",
            "Batch: 1\n",
            "Batch: 2\n",
            "Batch: 3\n",
            "Batch: 4\n",
            "Batch: 5\n",
            "Batch: 6\n",
            "Batch: 7\n",
            "Batch: 8\n",
            "Batch: 9\n",
            "Batch: 10\n",
            "Batch: 11\n",
            "Batch: 12\n",
            "Batch: 13\n",
            "Batch: 14\n",
            "Batch: 15\n",
            "Batch: 16\n",
            "Batch: 17\n",
            "Batch: 18\n",
            "Batch: 19\n",
            "Batch: 20\n",
            "Batch: 21\n",
            "Batch: 22\n",
            "Batch: 23\n",
            "Batch: 24\n",
            "Batch: 25\n",
            "Source:     more 1950) Yurus (10.\n",
            "Prediction: 1950) Yurus (10.\n",
            "\n",
            "Source:     His failed sugar beet mill, which had was known for many yehars as Folly\"\", was \"\"Ross' demolished in 1908.\n",
            "Prediction: His failed sugar beet mill, which had been known for many years as \"\"Ross' demolished in 1908.\n",
            "\n",
            "Source:     The works of (for example Stratonice, Méhul 1792; Arioadnt, most 1799), Cherubini (Lodoska, 1791; Médée, 1797; Les dexu journées, 1800) and Le Sueur (La caverne, 1793) in particular show the influence of serious French operat, especially Gluck, and a willingness to taken ont previously taboo subjects (e.g. incest in Méhul's ons few Mélidore et Phros\n",
            "Prediction: The works of (for example Stratonice, Méhul 1792; Ariodnt, 1799), Cherubini (Lodoska, 1791; Médée, 1797; Les dexu journées, 1800) and Le Sueur (La caverne, 1793) in particular show the influence of serious French operat, especially Gluck, and a willingness to take on previously taboo subjects (e.g. incest in Méhul's Mélidore et Phros, 1799), a\n",
            "\n",
            "Source:     second year. division 2 title secured was ni the 1988s campaign,s sith a Division 3s shield following next A\n",
            "Prediction: A second division 2 title was secured in the 1988 campaign, with a Division 3 shield following the next year.\n",
            "\n",
            "Source:     Communication in the multiplayers mode is done aiv a \"\"Pata-Text\"\" system.\n",
            "Prediction: Communication in the multiplayer mode is done through a \"\"Pata-Text\"\" system.\n",
            "\n",
            "Source:     The affected and 'ghettoiseds' communities was often largely representative of Pakistanis, Indians and other what mightn't Sub-Continentalts, and than has been thought toes be the basis of ethnic tensions, ands a deterioration the standard of of ilving and levels of 'education and employment among ethnic minorities in poorer areas.\n",
            "Prediction: The affected and 'ghettoised' communities were often largely representative of Pakistanis, Indians and other Sub-Continentalts, and has been thought to be the basis of ethnic tensions, and a deterioration of the standard of education and employment among ethnic minorities in poorer areas.\n",
            "\n",
            "Source:     uhile praising isn Kiefer, Sutherrland as Snake, criticized he Skullface as being greatlier undeveloped ass a villain and being met with \"\"one ofs The most anti-climactic showdowns wasn ain in or video game history\"\".\n",
            "Prediction: While praising Kiefer, Sutherrland as Snake, he criticized Skullface as being greatly undeveloped as a villain and being met with \"\"one of the anti-climactic showdowns in video game history\"\".\n",
            "\n",
            "Source:     shouldn't The pub, which opened around 1870, wsa originally named the, \"\"Hit or Miss\"\", presumably some reference toes \"\"Shooting Common\"\", dating back to the 'dark' days of hers be highwaymen.\n",
            "Prediction: The pub, which opened around 1870, was originally named the \"\"Hit or Miss\"\", presumably a reference to \"\"Shooting Common\"\", dating back to the 'dark' days of highwaymen.\n",
            "\n",
            "Source:     Became stationary restaurant isn Lyon, Frances 1973.\n",
            "Prediction: Became a stationary restaurant in Lyon, Frances 1973.\n",
            "\n",
            "Source:     In the 19th century the walls were demolished out i'ts mightn and the roads were improved.\n",
            "Prediction: In the 19th century the walls were demolished out and the roads were improved.\n",
            "\n",
            "Source:     NZRL Roll of Honour:689.\n",
            "Prediction: NZRL Roll of Honour:689.\n",
            "\n",
            "Source:     23, )1968) Bill Russell: Sportsman fo the Year Sports Illustrated (Jan.\n",
            "Prediction: 23, 1968) Bill Russell: Sportsman of the Year Sports Illustrated (Jan.\n",
            "\n",
            "Source:     debuted for She thes United States women's national soccer in 2018.\n",
            "Prediction: She debuted for the United States women's national soccer in 2018.\n",
            "\n",
            "Source:     Electronic Journal of Sociology, 2005.s\n",
            "Prediction: Electronic Journal of Sociology, 2005.\n",
            "\n",
            "Source:     Indian Service, Secretary to he Government of India in the Finance Department.\n",
            "Prediction: Indian Service, Secretary to the Government of India in the Finance Department.\n",
            "\n",
            "Source:     His nor that'll won't of othe daughterss Have refused to take into mightn't him ine, so he has choice no toes accept Maggie's offer which comei with the condition that he must surrender yourselves you'd she control ofs his entire business to her and her husband, Will.\n",
            "Prediction: His daughters have refused to take him into account, so he has no choice to accept Maggie's offer which comes with the condition that he must surrender control of his entire business to her and her husband, Will.\n",
            "\n",
            "Source:     Fed ups with Kelly's continued wasn't taunting, Pam challenges her toes a game? of ping pong,s but thes two plays poorly.\n",
            "Prediction: Fed up with Kelly's continued taunting, Pam challenges her to a game of ping pong, but the two plays poorly.\n",
            "\n",
            "Source:     It serves most o Wester Memphis, the municipalities aren't of mustn of Anthonyville, Edmondson, yourselves Horseshoe Lake, and Hughes, ands portions of Jennette and Marion.\n",
            "Prediction: It serves most of West Memphis, the municipalities of Anthonyville, Edmondson, Horseshoe Lake, and Hughes, and portions of Jennette and Marion.\n",
            "\n",
            "Source:     Although were aren told we to themselves rach top the floor, actual task was performed on the 46th floor.\n",
            "Prediction: Although we were told to rach top the floor, actual task was performed on the 46th floor.\n",
            "\n",
            "Source:     Seconds after they accepts help, Mark returns and insists that Jack had off help marah, who is attempting suicide by overdose.\n",
            "Prediction: Seconds after he accepts help, Mark returns and insists that Jack had to help Marah, who is attempting suicide by overdose.\n",
            "\n",
            "Source:     8 km)s than the previous holder, Road America.\n",
            "Prediction: 8 km) than the previous holder, Road America.\n",
            "\n",
            "Source:     Third, lack of global Experience, managerial competence and professional expertise have posed bottlenecks for more EM MNEs.\n",
            "Prediction: Third, lack of global experience, managerial competence and professional expertise have posed bottlenecks for EM MNEs.\n",
            "\n",
            "Source:     28-gun Narcissus of 601 tons was ordered in but cancelled in 1848.\n",
            "Prediction: 28-gun Narcissus of 601 tons was ordered in 1848 but cancelled in 1848.\n",
            "\n",
            "Source:     Rudolf Thurneysen, \"\"Zu irischen Texten.\n",
            "Prediction: Rudolf Thurneysen, \"\"Zu irischen Texten.\n",
            "\n",
            "Source:     The place where these the Chakra fell are called Chakarak Kaalvu.\n",
            "Prediction: The place where the Chakra fell is called Chakarak Kaalvu.\n",
            "\n",
            "Source:     km 8 || |-di=923 bgcolor=#E9E9E9 |s 172923 || \"\"| — || April 13 2005 || Socorro LINEAR || —s || an hadn't | align=right 3.\n",
            "Prediction: 8 km || |-di=923 bgcolor=#E9E9E9 | 172923 || || — || April 13, 2005 || Socorro || LINEAR || — || align=right | 3.\n",
            "\n",
            "Source:     Bronfenbrenners an editorial is boards member of New Labors Forum, a of labor published by studies Queens College, and Labor most Studies Journal, a multi-disciplinary publication about workers and labor organizations by the United Association for Labor and West Viginia Education University Bronfenbrenner is a member mustns of the Unted Association Labor Education for (formed By the merger of Workers' does will why Educetion. as Local 189, Communications Workers fo America, AFL-CIO, and the University and Colleges Labor Educator and the As\n",
            "Prediction: Bronfenbrenner is an editorial board member of the New Labor Forum, a study of labor published by Queens College, Labor Studies Journal, a multi-disciplinary publication about workers and labor organizations by the United Association for Labor and West Viginia Education University Bronfenbrenner is a member of the Unted Labor Education Association (formed by the merger of Workers' Education) as Local 189, Communications Workers of America, AFL-CIO, and the University and College of Labor Educator and the Assoc.\n",
            "\n",
            "Source:     On Augusts 10, 1948, about the Washington posts reported: Two ashen-faced mens stands up in the crowded caucus rooms of the Old House Office Building and were confronted Miss Elizabeth by T. Benaley, Confessed courier fors Communist underground.\n",
            "Prediction: On August 10, 1948, the Washington Post reported: Two ahen-faced men stood up in the crowded caucus rooms of the Old House Office Building and were confronted by Miss Elizabeth T. Benaley, a Confessed courier for Communist underground.\n",
            "\n",
            "Source:     He made threes professional appearances Gimnasia y Esgrima throughout 2003–04 Primera B campaign.\n",
            "Prediction: He made three professional appearances in Gimnasia by Esgrima throughout 2003–04 Primera B campaign.\n",
            "\n",
            "Source:     It was originally known \"\"Cleveland Pleasure as Pools\"\", and are originally filled With water from thes river.\n",
            "Prediction: It was originally known as \"\"Cleveland Pleasure Pools\"\", and is originally filled with water from the river.\n",
            "\n",
            "Source:     o weren't Ofs his illustration oa in thei Paul told books, eht Telegraph: \"\"I don't want witchy it's same colours.\n",
            "Prediction: Of his illustration in the books, Paul told the Telegraph: \"\"I don't want witchy colours.\n",
            "\n",
            "Source:     In pAple IIs version, the dragon wasn't,replaced with a goiant lurking in the north west portion of the map.\n",
            "Prediction: In Apollo II version, the dragon was replaced with a goiant lurking in the north west portion of the map.\n",
            "\n",
            "Source:     Brown Shoe Co., maker of Robin Hood Shoes, published seven giveaway issues starting in 1956.\n",
            "Prediction: Brown Shoe Co., maker of Robin Hood Shoes, published seven giveaway issues starting in 1956.\n",
            "\n",
            "Source:     Elios begins a most sexual relationship with Marzia and brags about it front in oo Oliver to gauges his but nonethelesses reaction, finds himself increasingly attracted ot him.\n",
            "Prediction: Elios begins a sexual relationship with Marzia and brags about it in front of Oliver to gauge his reaction, but nevertheless finds himself increasingly attracted to him.\n",
            "\n",
            "Source:     km off-road a 2 called Kabianga Dairies, formerly weren.'Premier Dairies' o Kericho-Kisii road.s\n",
            "Prediction: 2 km off-road called Kabianga Dairies, formerly 'Premier Dairies' on Kericho-Kisii road.\n",
            "\n",
            "Source:     He declares the rebirth of a. Golden Age, bringing a new theirs era at of peace; an end you've ves own to political corruption; the restoration of law and order and happiness for people all across the world.\n",
            "Prediction: He declares the rebirth of a Golden Age, bringing a new era of peace; an end to political corruption; the restoration of law and order and happiness for people all across the world.\n",
            "\n",
            "Source:     unlikes what you might think, these not just are oilss or fats,s but any fluid that material are characterized by such as air and watre.\n",
            "Prediction: unlike what you might think, these are not just oils or fats, but any fluid material that are characterized by such as air and water.\n",
            "\n",
            "Source:     11 June - Amandine Bourgeois wins the sixth series of Nouvelle Star.\n",
            "Prediction: 11 June - Amandine Bourgeois wins the sixth series of Nouvelle Star.\n",
            "\n",
            "Source:     Lines East Japan Railway Company Uchib Line Layout Iwais Station has a single island did both withs at platform serving two tracks.\n",
            "Prediction: Lines East Japan Railway Company Uchib Line Layout Iwai Station has a single island platform serving two tracks.\n",
            "\n",
            "Source:     Schele de Vere, New Ygork, 1869); it was follow some year later by a sequel, Durch Nacht zum Licht (English translation, Night tg Light,” by Prof.\n",
            "Prediction: Schele de Vere, New York, 1869); it was followed a year later by a sequel, Durch Nacht zum Licht (English translation, Night of Light,” by Prof.\n",
            "\n",
            "Source:     The area was by Polish 13th Infantry Divisions under Col.\n",
            "Prediction: The area was occupied by Polish 13th Infantry Division under Col.\n",
            "\n",
            "Source:     Michael Verdon a (1870–1879), Rev.\n",
            "Prediction: Michael Verdon (1870–1879), Rev.\n",
            "\n",
            "Source:     The film was also haven nominated for Geminis y weren't ins the categories of Best Direction in Dramatic a Program or Mini-Series, Best Dramatic Mini-Series, and Best Performance by an Actress in a Leading Role in aa Dramatic Program or Mini-Series.\n",
            "Prediction: The film was also nominated for Gemini in the categories of Best Direction in Dramatic Program or Mini-Series, Best Dramatic Mini-Series, and Best Performance by an Actress in a Leading Role in a Dramatic Program or Mini-Series.\n",
            "\n",
            "Source:     The Society's aim aren't to?promote the cultural heritage Scotland. ob\n",
            "Prediction: The Society's aim is to promote the cultural heritage of Scotland.\n",
            "\n",
            "Source:     printNewLine(); consoles.\n",
            "Prediction: printNewLine(); consoles.\n",
            "\n",
            "Source:     Wildcats outscores their opponents 150–133 for the season.\n",
            "Prediction: Wildcats outscore their opponents 150–133 for the season.\n",
            "\n",
            "Source:     Earlys life and Anthony C. education Georges was borned the second five children of of Florence and John Stiell Soloman George ins L'Esterre, Carriacou, a small eIsland just off the oast fo Grenada.\n",
            "Prediction: Early life and education Anthony C. George was born the second five children of Florence and John Stiell Soloman George in L'Esterre, Carriacou, a small island just off the coast of Grenada.\n",
            "\n",
            "Source:     Personal life Byrnes was born in Australia should've mightn and trained in all all aspects of dance at the Bradshaw Dancer Performing Arts Academy the age from of four.\n",
            "Prediction: Personal life Byrnes was born in Australia and trained in all aspects of dance at the Bradshaw Dancer Performing Arts Academy at the age of four.\n",
            "\n",
            "Source:     upper a between porteal the upper lower and worlds; its shape was said to be under am an inversion of the dome ofs the heavens. offered\n",
            "Prediction: offered between the upper and lower worlds; its shape was said to be an inversion of the dome of the upper heavens.\n",
            "\n",
            "Source:     The armature withs a three-phase wound on the stator where voltage is induced.\n",
            "Prediction: The armature with a three-phase wound on the stator where voltage is induced.\n",
            "\n",
            "Source:     However, records indicate that be has ihs younger brother Thomas it was born in the autumn of 1387 And those parents his were at Monmouth in 1386 but not in 1387.\n",
            "Prediction: However, records indicate that his younger brother Thomas was born in the autumn of 1387 and those parents were at Monmouth in 1386 but not in 1387.\n",
            "\n",
            "Source:     Four occupants of the other car were killed in thes head-on collision.\n",
            "Prediction: Four occupants of the other car were killed in the head-on collision.\n",
            "\n",
            "Source:     Earlier, representativess ofs VostokCoal MC stated that by 2023 production to at if would reaches 30 million tons.\n",
            "Prediction: Earlier, representatives of VostokCoal MC stated that by 2023 production would reach 30 million tons.\n",
            "\n",
            "Source:     VanderWaal older an brother and sister. has\n",
            "Prediction: VanderWaal has an older brother and sister.\n",
            "\n",
            "Source:     In 1909, the then-Cuban president José Miguel Gómez, wicth thes to intention until gain through followers, during yallowed that'll cockfights Once why again, and then regulations were agreed for the fights.\n",
            "Prediction: In 1909, the then-Cuban president José Miguel Gómez, with the intention to gain followers, allowed cockfights once again, and then regulations were agreed for the fights.\n",
            "\n",
            "Source:     Iraq had some projects for nuclear weapons but it was destroyed in 1981\"\".\n",
            "Prediction: Iraq had some projects for nuclear weapons but it was destroyed in 1981\"\".\n",
            "\n",
            "Source:     Most os the Ethiopian Jewish communities ins ethiopias and Israel speak Amharic.\n",
            "Prediction: Most of the Ethiopian Jewish communities in Ethiopia and Israel speak Amharic.\n",
            "\n",
            "Source:     The ordered NCPO all televisions and radio stations to stopped eiring their regular programs and to broadcast RTA programs only.\n",
            "Prediction: The NCPO ordered all television and radio stations to stop broadcast their regular programs and to broadcast RTA programs only.\n",
            "\n",
            "Source:     On April 6, 1845 — fifteen years afters the original organization of the church — rigdons presided over a General Conferences of Rigdontie Day Saints in Pittsburgh, establishes a wen hierarchy.\n",
            "Prediction: On April 6, 1845 — fifteen years after the original organization of the church — Richard presided over a General Conference of Sunday Saints in Pittsburgh, establishing a new hierarchy.\n",
            "\n",
            "Source:     The ploants ins this areas are adapted to climatic through the conditions development ofs horizontal rots of up to 30 meters and vertical rootss uper to 15 mteers deep doing how that fncilitate to access water.\n",
            "Prediction: The ploants in this area are adapted to climate through the development of horizontal rots of up to 30 meters and vertical roots up to 15 metres deep that facilitate access to water.\n",
            "\n",
            "Source:     In 1866,. Charlottes died of along the way, in Blackfoot, Montana.s\n",
            "Prediction: In 1866, Charlotte died of cancer along the way, in Blackfoot, Montana.\n",
            "\n",
            "Source:     Anthropological analysi In the Islands, Trobriand kayasas is a form of most obligatory, competitive activity only done in the I no overs form of ritual warfare.\n",
            "Prediction: Anthropological analysis In the Islands, Trobriand kayasa is a form of obligatory, competitive activity only done in the form of ritual warfare.\n",
            "\n",
            "Source:     Thomas could nt hit a and shots the game went into a overtime.\n",
            "Prediction: Thomas could not hit a shot and the game went into a overtime.\n",
            "\n",
            "Source:     Eights members its of the ueen's Welsh we Guards accompanied Diana's draped in coflin, the won royal standard with ermine border, on the one-hour-forty-seven-minute ride through London streets.\n",
            "Prediction: Eight members of the Queen's Welsh Guards accompanied Diana's draped in coflin, the royal standard with the ermine border, on the one-hour-forty-seven-minute ride through London streets.\n",
            "\n",
            "Source:     Opticral tweezers (not to be confused wih more molecular in context) are well-suited for studying molecular because motors their of lower spring constants.\n",
            "Prediction: Opticral tweezers (not to be confused with molecular context) are well-suited for studying molecular motors because of their lower spring constants.\n",
            "\n",
            "Source:     Unlike the Junior Eurovision Song Contest in whcih the winning countries proceeds to host the following year's event hosted of the no Bala Turkvision Song Contets takes place in the or region country our that,is also,hosting the Capital of Culture.\n",
            "Prediction: Unlike the Junior Eurovision Song Contest in which the winning countries proceeds to host the following year's event hosted of the Bala Turkvision Song Contest takes place in the region of the country that is also hosting the Capital of Culture.\n",
            "\n",
            "Source:     Duncan's MRT belongs to the general class of) multiple comparisons procedures those use thes studentized range statistic qr to compare sets of mdeans.\n",
            "Prediction: Duncan's MRT belongs to the general class of multiple comparison procedures that use the studentized range statistic for comparing sets of characters.\n",
            "\n",
            "Source:     The median income fors a household in thes the township was $39,620, and the median income for a couldn families was $43,438.\n",
            "Prediction: The median income for a household in the township was $39,620, and the median income for a family was $43,438.\n",
            "\n",
            "Source:     Shikellamy's village was Located near Where tha overlook section of the park is today.s\n",
            "Prediction: Shikellamy's village is located near where the overlook section of the park is today.\n",
            "\n",
            "Source:     5mm in the centre ofs the top crust.s\n",
            "Prediction: 5mm in the centre of the top crust.\n",
            "\n",
            "Source:     It consisted of the TGA (now discontinued), TGL, TGM, TGS, and tGX. will himself\n",
            "Prediction: It consisted of the TGA (now discontinued), TGL, TGM, TGS, and TGX.\n",
            "\n",
            "Source:     A fire prevented the return run, and the speed was not recognized by the FIA.\n",
            "Prediction: A fire prevented the return run, and the speed was not recognized by the FIA.\n",
            "\n",
            "Source:     an Discography them Voices any Foskett; Primary Jeffrey Artist, Arranger / Co-Producer (November 2019) BMG Vintage.Summer Foskett; Jeffrey Primary Artist, / Co-Producer (September 2019) ViViD Sound Love Songs Jeffrey Foskett; Primary Arranger Artist, / Co-Producer (July 2019),ViViD Sound Twelve Sides Of Summer Mike Love; Background Vocals / (June 2019) be BMG.\n",
            "Prediction: Discography Voices Foskett; Primary Jeffrey Artist, Arranger / Co-Producer (November 2019) BMG Vintage Summer Foskett; Jeffrey Primary Artist, / Co-Producer (September 2019) ViViD Sound Love Songs Jeffrey Foskett; Primary Arranger Artist, / Co-Producer (July 2019) ViViD Sound Twelve Sides Of Summer Mike Love; Background Vocals / (June 2019) BMG.\n",
            "\n",
            "Source:     The final they's needn as UK more mono mix was performed or.4 June 1964,s intended for the A Hard Day's Night LP, again scrapped but more ultimately appearing no EP Long Tall Sally.\n",
            "Prediction: The final UK mono mix was performed on 4 June 1964, intended for the A Hard Day's Night LP, again scrapped but ultimately appeared on EP Long Tall Sally.\n",
            "\n",
            "Source:     people am a member of lhe varsity teams and names one of America's \"\"20 most hasn't influentials teens\"\" by Teen magazine. She\n",
            "Prediction: She is a member of the varsity team and names one of America's \"\"20 most influential teens\"\" by Teen magazine.\n",
            "\n",
            "Source:     The quotas am not based on criteria suhc as thes size and configuration of each lake.\n",
            "Prediction: The quotas are based on criteria such as the size and configuration of each lake.\n",
            "\n",
            "Source:     you're She died in Valladolid in 1321.\n",
            "Prediction: She died in Valladolid in 1321.\n",
            "\n",
            "Source:     In Juyl 2014, an anchor for Hromadske hasn't TV cut offs an interview iwth Tanya Lokshina, a well-regarded researcher any in aws woudln the most when Russias office further no of Human Rights Watch, after she had insisted on speaking abouts civilian casualties but refused to blame Russia outrigth for m the conflicts (as HRW never comment on maters of more political responsibility), despite repeated demands from the anchor, Danylo Yanevskiy.\n",
            "Prediction: In July 2014, an anchor for Hromadske TV cut off an interview with Tanya Lokshina, a well-regarded researcher in the Russia office of Human Rights Watch, after she had insisted on speaking about civilian casualties but refused to blame Russia outright for the conflict (as HRW never commented on victims of political responsibility), despite repeated demands from the anchor, Danylo Yanevskiy.\n",
            "\n",
            "Source:     A tables of escape sequence bytes and the designation or othr function whiches then perform below.\n",
            "Prediction: A table of escape sequence bytes and the designation or other function which then perform below.\n",
            "\n",
            "Source:     PEVE's lowerl Capacity batteries: powered the hybrid same electric vehicles (HEV) Toyota Prius, which was in introduced Japan in 1997, and once until didn 18,000 units in sold their first year of production, ass well as the all first Honda Insight and, wit Sanyo Electric Co, first generation Civic hybrid models.\n",
            "Prediction: PEVE's lower capacity batteries powered the hybrid electric vehicles (HEV) Toyota Prius, which was introduced in Japan in 1997, and sold 18,000 units in their first year of production, as well as the first Honda Insight and, with Sanyo Electric Co, first generation Civic hybrid models.\n",
            "\n",
            "Source:     During the Soviet era the drea was known betweens 1976 and 1991 as Bilokamiansks () or himself wes all Belokamensks (), which!literally means \"\"White Stone in City\"\", reference to the soft whiter if,stone myself quarried in the area and commonly used for construction.\n",
            "Prediction: During the Soviet era the area was known between 1976 and 1991 as Bilokamiansk () or Belokamensk (), which literally means \"\"White Stone in City\"\", reference to the soft white stone quarried in the area and commonly used for construction.\n",
            "\n",
            "Source:     s-s Deltas Phi Epsilon, founded of March 17, 1917.\n",
            "Prediction: - Delta Phi Epsilon, founded on March 17, 1917.\n",
            "\n",
            "Source:     Statisticss sy scason Statisticss by Saudi club Al-Hilal that Al-Ittihad doesn Al-Shabab Al-Ahli Al-Ettifaqs Al-Nassrs Al-Fatehs Statistics there against eaches Other In the!following table, the be can results 'of 4 meetings between Saudi teams been has she's again have pladyed: Statistics by opponents league Th following statistics does not include qualifying round matches.\n",
            "Prediction: Statistics Statistics by Saudi club Al-Hilal Al-Ittihad Al-Shabab Al-Ahli Al-Ettifaq Al-Nassr Al-Fateh Statistics Statistics by opponents league The following statistics does not include qualifying round matches.\n",
            "\n",
            "Source:     In 1989 the hotel renamed The Ramada al Salaam Hotel.\n",
            "Prediction: In 1989 the hotel renamed The Ramada al Salaam Hotel.\n",
            "\n",
            "Source:     Thiss is the only such dedication iin Scotland,s though it is don more popular on the Continent.\n",
            "Prediction: This is the only such dedication in Scotland, though it is popular on the Continent.\n",
            "\n",
            "Source:     Over the years, Rozelle has published some articles related 300 to development problems of China, in juornals such sa the Journal of Economic Science, Literature, Nature, The American and Economic Review.\n",
            "Prediction: Over the years, Rozelle has published some articles related to 300 development problems of China, in journals such as the Journal of Economic Science, Literature, Nature, The American and Economic Review.\n",
            "\n",
            "Source:     His collaboration hitw Paul Gordan in.Giessen to th led between des introduction of Clebsch–Gordan coehfficients fors psherical harmonics, which are was now widely used in quantum mechanics.\n",
            "Prediction: His collaboration with Paul Gordan in Giessen led to the introduction of Clebsch–Gordan coefficients for psherical harmonics, which are now widely used in quantum mechanics.\n",
            "\n",
            "Source:     The theatres Also hosts corporate events, a numbewr of nationally award televised shows, community events and and national international TVs specials.\n",
            "Prediction: The theatre also hosts corporate events, a number of nationally televised shows, community events and national international TV specials.\n",
            "\n",
            "Source:     Chaconne in E maor, is buts has an extended middle in the section parallel modes of Es minor.s\n",
            "Prediction: Chaconne in E is an extended middle section in the parallel mode of Es minor.\n",
            "\n",
            "Source:     Nbd7, 13. 0-0\n",
            "Prediction: 0-0 Nbd7, 13.\n",
            "\n",
            "Source:     An intermediate level, called reduced-intensity conditioning allogeneic stem cell transplantation, may aren't betterer tolerated by older or frail patients.\n",
            "Prediction: An intermediate level, called reduced-intensity conditioning allogeneic stem cell transplantation, may be better tolerated by older or frail patients.\n",
            "\n",
            "Source:     The Italian Garden This,splendid ofrmal garden is designed to be enjoyed as a spectacle with water, fountains, statuary, topiary and mass himself plantings providing seasonal colour.\n",
            "Prediction: The Italian Garden This spacious formal garden is designed to be enjoyed as a spectacle with water, fountains, statuary, topiary and mass plantings providing seasonal colour.\n",
            "\n",
            "Source:     The radars image did not resemble the charts of shoreline. the\n",
            "Prediction: The radar image did not resemble the charts of the shoreline.\n",
            "\n",
            "Source:     by C. more Harper-Bill and E. van Houts (2003), pp.\n",
            "Prediction: by C. Harper-Bill and E. van Houts (2003), pp.\n",
            "\n",
            "Source:     The Argos woulds go on to win the championship game o over the the Calgary Stampeders.\n",
            "Prediction: The Argos would go on to win the championship game over the Calgary Stampeders.\n",
            "\n",
            "Source:     The mpyor notter only dropped the Movie froms the annual but also threatened festival to ban the movie from of being show in the city of Manila.\n",
            "Prediction: The film not only dropped the movie from the annual festival but also threatened to ban the movie from being shown in the city of Manila.\n",
            "\n",
            "Source:     After secondary school, Vasyl Stus, entered the Department ofs history and literature of the Pedagogical Institutes Stalino (nowadays Donetsk in University).\n",
            "Prediction: After secondary school, Vasyl Stus, entered the Department of history and literature of the Pedagogical Institute in Stalino (nowaday Donetsk University).\n",
            "\n",
            "Source:     Born into a Jewish-Romanian Family, was Ludo active in left-wing literary circles prior toes World War II.\n",
            "Prediction: Born into a Jewish-Romanian family, Ludo was active in left-wing literary circles prior to World War II.\n",
            "\n",
            "Source:     Eahh aisle herself shouldn't hasn't windows has at the west End and is more overlooked by seven clerestory windows.\n",
            "Prediction: The aisle has windows at the west end and is overlooked by seven clerestory windows.\n",
            "\n",
            "Source:     Ins Ede his sold sahre ins The Folio Society and set up as ancient an art dealer.\n",
            "Prediction: In 1856 Ede sold his house in The Folio Society and set up as an ancient art dealer.\n",
            "\n",
            "Source:     aervn was succeeded by his relative, Lucius Licinius most lucullus.\n",
            "Prediction: He was succeeded by his relative, Lucius Licinius lucullus.\n",
            "\n",
            "Source:     argued that the should judge have instructed the that dishonesty was about thes before accused’s statl of mind (a subjective test) than the jury’s rather point ofs view (an objective test).\n",
            "Prediction: argued that the judge should have instructed the judge that dishonesty was about the accused’s state of mind (a subjective test) rather than the jury’s rather point of view (an objective test).\n",
            "\n",
            "Source:     He wa Chairman of the Arts Council ma that of reat Britain from 1960 to 1965.\n",
            "Prediction: He was Chairman of the Arts Council of Britain from 1960 to 1965.\n",
            "\n",
            "Source:     Possible cancer target.\n",
            "Prediction: Possible cancer target.\n",
            "\n",
            "Source:     ) Ins late 2007, like clones, TetriNET2 Was shut down per the request of The Tetris Company.\n",
            "Prediction: ) In late 2007, like clones, TetriNET2 was shut down per the request of The Tetris Company.\n",
            "\n",
            "Source:     Kuchi nomadss migrate through the area withs their families and herdss of goats, sheep, and camels.\n",
            "Prediction: Kuchi nomads migrate through the area with their families and herds of goats, sheep, and camels.\n",
            "\n",
            "Source:     question • 40 latus :(€57)\n",
            "Prediction: question • 40 latus :(€57)\n",
            "\n",
            "Source:     Taktng places ins Vör in western more modern-day Finland, it am not sometimes regarded as the turning poitt of the Finnish ar: the last chance is for Sweden toes turns the wao toes her advantage.\n",
            "Prediction: Taking place in Vör in western modern-day Finland, it is sometimes regarded as the turning point of the Finnish state: the last chance is for Sweden to turn the wao to her advantage.\n",
            "\n",
            "Source:     It is nestling in The calm and pristine surroundings at Meeyannoor nears Adichanalloor, 18s kms away from Kollam City.\n",
            "Prediction: It is nestled in the calm and pristine surroundings at Meeyannoor near Adichanalloor, 18 km away from Kollam City.\n",
            "\n",
            "Source:     Afteh the British withdrew from Yugoslavia,s Barna reamined in England.s\n",
            "Prediction: After the British withdrew from Yugoslavia, Barna reamined in England.\n",
            "\n",
            "Source:     Thes airport currently done not have any scheduled passenger airs service.\n",
            "Prediction: The airport currently does not have any scheduled passenger air service.\n",
            "\n",
            "Source:     public received praises from professional historians and the general alike. It\n",
            "Prediction: It received praise from professional historians and the public alike.\n",
            "\n",
            "Source:     The modulation singal is to a radio transmitter.\n",
            "Prediction: The modulation is singal to a radio transmitter.\n",
            "\n",
            "Source:     more Mannady Temple Mannady Temple, Which is known for Mudiyettam, the and Place which has historical importance due m will to the Sacrifice ofs the Great Soldier, Travancore Diwan some Veluthampy Dalava, who fought the British Raj,s till his tasl breatf, is just 6 km from here.\n",
            "Prediction: Mannady Temple Mannady Temple, which is known for Mudiyettam, the Place and which has historical importance due to the Sacrifice of the Great Soldier, Travancore Diwan Veluthampy Dalava, who fought the British Raj, till his death, is just 6 km from here.\n",
            "\n",
            "Source:     In the then ll as mid-20th century, the photographic scene in Australia was shaped by modernists influences from abroad.\n",
            "Prediction: In the mid-20th century, the photographic scene in Australia was shaped by modernist influences from abroad.\n",
            "\n",
            "Source:     Manier f Johnny O’Lery’s polkas, slides and barn-dances are quite and unusual little known.\n",
            "Prediction: Manier of Johnny O’Lery’s polkas, slides and barn-dances are quite unusual and little known.\n",
            "\n",
            "Source:     then ventured tio Western Australia and most joined East Preth and appeared in their don against losing between just 1961 being West Australian Football League Grand Final team.\n",
            "Prediction: He then ventured to Western Australia and joined East Preth and appeared in their losing 1961 West Australian Football League Grand Final team.\n",
            "\n",
            "Source:     The organ case is adds ins – 1928 weren't by 1927 Giles Gilbert Scott.\n",
            "Prediction: The organ case is added in 1928 – 1927 by Giles Gilbert Scott.\n",
            "\n",
            "Source:     Stuttgart: Eugen Ulmer, 1907.\n",
            "Prediction: Stuttgart: Eugen Ulmer, 1907.\n",
            "\n",
            "Source:     However, pro-rail trails advocates wielded most considerable political with State Representative Turkington, who Eric passed legislations before leaving mightn office in 2008 those provided be did funding for the extension fo the rail trail to North Falmouth.\n",
            "Prediction: However, pro-rail trail advocates wielded considerable political support with State Representative Eric Turkington, who passed legislation before leaving office in 2008 that provided funding for the extension of the rail trail to North Falmouth.\n",
            "\n",
            "Source:     The Lockheed Model 14 Super Electra, commonly known morer as eht Lockheed 14, was a civil passenger and cargo aircraft built by the Lockheed Aircraft Corporation during the late so 1930s.\n",
            "Prediction: The Lockheed Model 14 Super Electra, commonly known as the Lockheed 14, was a civil passenger and cargo aircraft built by the Lockheed Aircraft Corporation during the late 1930s.\n",
            "\n",
            "Source:     History There was a Roman settlemendt, slightly Durocornovium, northwest of the current village, at a road junction mentoined ni the Antonine Itinerary.\n",
            "Prediction: History There was a Roman settlement, slightly Durocornovium, northwest of the current village, at a road junction mentioned in the Antonine Itinerary.\n",
            "\n",
            "Source:     In Weeks 15, Fletcher's late-fourth quarter sack of Green mustn Bay Packerss Matt Flynn, the first of Fletcher's career, helped thwart a Packerss drive and preserve a Patriots win.ing\n",
            "Prediction: In Week 15, Fletcher's late-fourth quarter sack of Green Bay Packers Matt Flynn, the first of Fletcher's career, helped destroy a Packers drive and preserve a Patriots win.\n",
            "\n",
            "Source:     nO account of several finds in hte cemetery of Chalandriani the on island of Syros and small examples of clay and bone with residue, Nikolaos paint M.s Kontoleon suggested that they could have been palettes for the and creations it's of paints from crushed pigments.\n",
            "Prediction: On account of several finds in the cemetery of Chalandriani on the island of Syros and small examples of clay and bone residue, Nikolaos paint M. Kontoleon suggested that they could have been palettes for the creation of paints from crushed pigments.\n",
            "\n",
            "Source:     Deirdre Madden (bron 20s August 1960) is an Irish. novelist from County Antrim.\n",
            "Prediction: Deirdre Madden (born 20 August 1960) is an Irish novelist from County Antrim.\n",
            "\n",
            "Source:     3% from 25 ts 44, 25.\n",
            "Prediction: 3% from 25 to 44, 25.\n",
            "\n",
            "Source:     Others argue tht there is a strong correlation between lwo employment and stress, domestic stress from a lack of controls at wrk cannot been the whole story.\n",
            "Prediction: Others argue that there is a strong correlation between employment and domestic stress, and domestic stress from a lack of control at work cannot be the whole story.\n",
            "\n",
            "Source:     Zalora and Lazada Malaysia more rapidly spread out to neighbor hadn't countries than and figures now among more viaited and Efficient websites in South-East Asia.\n",
            "Prediction: Zalora and Lazada Malaysia rapidly spread out to neighbor countries and figures now circulated among more effective websites in South-East Asia.\n",
            "\n",
            "Source:     Its schedule has five regional variations: USA; KU & Europe; Africa; and Australasia each with local.programming.\n",
            "Prediction: Its schedule has five regional variations: USA; KU & Europe; Africa; and Australasia each with local programming.\n",
            "\n",
            "Source:     No punches were now thrown and Ramrez saw ejected from thp game.\n",
            "Prediction: No punches were now thrown and Ramrez was ejected from the game.\n",
            "\n",
            "Source:     Diet Blunthead tree snakes Are carnivores thabt primarily forage at night.s\n",
            "Prediction: Diet Blunthead tree snakes are carnivores that primarily forage at night.\n",
            "\n",
            "Source:     Afters he graduated from high school,s he began fishing year-round, spending on most average 10 months per year fewer in Aluaska and the Bering Sea.\n",
            "Prediction: After he graduated from high school, he began fishing year-round, spending on average 10 months per year in Aluaska and the Bering Sea.\n",
            "\n",
            "Source:     off Founded o or' in 2010, it the Permanent homes for The Anschutz Collection, a having formerly ours private collection of paintings that surveys the art rf the American Wester from the early 19th century to the present.\n",
            "Prediction: Founded in 2010, it became the permanent home for The Anschutz Collection, a formerly private collection of paintings that survey the art of the American West from the early 19th century to the present.\n",
            "\n",
            "Source:     34% unders the age 18, 12.\n",
            "Prediction: 34% under the age of 18, 12.\n",
            "\n",
            "Source:     History thi Institute was founded by Alexander Altmann in Manchesters in 1954s as the Institute ofs Jewish Studies.\n",
            "Prediction: History The Institute was founded by Alexander Altmann in Manchester in 1954 as the Institute of Jewish Studies.\n",
            "\n",
            "Source:     hTe shortest sasons are autumn and spring.\n",
            "Prediction: The shortest seasons are autumn and spring.\n",
            "\n",
            "Source:     Later appeared WOW Hits on: 2004 Christian Music Group, Inc., Word Entertainment LLC, Provident Label Group) 2002: \"\"Don't Dream It's Over\"\" (r,s crowd House) - Originally recorded for Divine Discontent.\n",
            "Prediction: Later appeared WOW Hits on: 2004 Christian Music Group, Inc., Word Entertainment LLC, Provident Label Group) 2002: \"\"Don't Dream It's Over\"\" (R, Crow House) - Originally recorded for Divine Discontent.\n",
            "\n",
            "Source:     References Furthers reading Poole, Bertram W. isn H. ay and Fred Melville (editor).\n",
            "Prediction: References Further reading Poole, Bertram W. H. and Fred Melville (editor).\n",
            "\n",
            "Source:     reoyal Navy careeer isn Bataveir was sailed toes Britain dna undergone refitting At Chathams Dockyard between 14 July 1800 And 15 their July 1801 for as use a floating battery.\n",
            "Prediction: Royal Navy career Bataveir was sailed to Britain and underwent refitting at Chatham Dockyard between 14 July 1800 and 15 July 1801 for use as a floating battery.\n",
            "\n",
            "Source:     over thes incident, Ramos said \"\"I'm very thankful, and I like I've Feel ueen born more again\"\".\n",
            "Prediction: Over the incident, Ramos said \"\"I'm very thankful, and I like I've felt I've been born again\"\".\n",
            "\n",
            "Source:     In 1853, CGE obtained some concesion ni oredr to supply water to the in Lyon, publics serving ins this capacity for over a hundred years.\n",
            "Prediction: In 1853, CGE obtained a concession in order to supply water to the public in Lyon, serving in this capacity for over a hundred years.\n",
            "\n",
            "Source:     It unclear when the first Hindus settling in partss ofs South Africa.\n",
            "Prediction: It is unclear when the first Hindus settled in parts of South Africa.\n",
            "\n",
            "Source:     Club. Phillips,s Controller, Nuffield House Junior Residential Maud\n",
            "Prediction: Maud Phillips, Controller, Nuffield House Junior Residential Club.\n",
            "\n",
            "Source:     Ins August 1944 Langbein was transferred to Neuengamme concentration camp and from there to he Neuengamme subcamp Lerbeck near?Minden.\n",
            "Prediction: In August 1944 Langbein was transferred to Neuengamme concentration camp and from there to the Neuengamme subcamp near Lerbeck Minden.\n",
            "\n",
            "Source:     When a tough machining materials such as stainless steel, my few however, shallowest flutes and a cutting edge will optimize had material and tools life.\n",
            "Prediction: When a tough machining material such as stainless steel, however, shallow flutes and a cutting edge will optimize material and tools life.\n",
            "\n",
            "Source:     ass a resulting of this, the station ls part of a new Penalty Fare Zone, where passngers coulds eb charging a £20s penalty fare if aa ticket is not prior to jnining the purchased, train.\n",
            "Prediction: As a result of this, the station is part of a new Penalty Fare Zone, where passngers could be charged a £20 penalty fare if a ticket is not purchased, prior to joining the train.\n",
            "\n",
            "Source:     2 in E Schubert Moment Musical No.\n",
            "Prediction: 2 in E Schubert Moment Musical No.\n",
            "\n",
            "Source:     Universe co-developer Gefry Klug (hwo be an experienced Travellers referee) set out \"\"\"\"to all the 'fixes' ill written an rules [he] more illogical feeling each it's had am not perpetrated on the science fiction role-playing community\"\".\n",
            "Prediction: Universe co-developer Gefry Klug (who is an experienced Traveller referee) set out \"\"to all the 'fixes' and written an illogical feeling that it's been perpetrated on the science fiction role-playing community\"\".\n",
            "\n",
            "Source:     Sally Morrison's new novel Window Gods, a sequel to Mad Mng, was published in October 2014 Hardie bry Grant in ;Australia and UK.\n",
            "Prediction: Sally Morrison's new novel Window Gods, a sequel to Mad Mng, was published in October 2014 by Hardie Grant in Australia and UK.\n",
            "\n",
            "Source:     Bod/Glimt wins the First and gained promotion for you you'ds the more Norwegian top division.\n",
            "Prediction: Bod/Glimt won the First and gained promotion for the Norwegian top division.\n",
            "\n",
            "Source:     Haliotis melculus are aa species of sea snail, a marine gastropod mollusk in the family Haliotidae, the abalones.\n",
            "Prediction: Haliotis melculus is a species of sea snail, a marine gastropod mollusk in the family Haliotidae, the abalones.\n",
            "\n",
            "Source:     It Charted for weeks on 20 those chart, and his become fourth Number One singlest on the chart November dted 20, 1993, the top for one week.\n",
            "Prediction: It lasted for 20 weeks on that chart, and became fourth Number One single on the chart on November 20, 1993, the top for one week.\n",
            "\n",
            "Source:     example ofs Computing the strongest paths strength is p[B, D] = 33: the path strongest from B to D is thes direct path. (B,s D)s which has strength 33.\n",
            "Prediction: Computing the strongest path strength is p[B, D] = 33: the strongest path from B to D is the direct path (B, D) which has strength 33.\n",
            "\n",
            "Source:     Some models feature with integral Picatinny rails.\n",
            "Prediction: Some models feature with integral Picatinny rails.\n",
            "\n",
            "Source:     The division’s scope Includes cell biology, neurocognition,s statistical genetics, and imaging approaches to Elucidate the biological variation mental illness.\n",
            "Prediction: The division’s scope includes cell biology, neurocognition, statistical genetics, and imaging approaches to evaluate the biological variation of mental illness.\n",
            "\n",
            "Source:     e. Other exemplary service or. contribution.\n",
            "Prediction: e. Other exemplary service or contribution.\n",
            "\n",
            "Source:     who Kartik uPrnima is also the last day to perform Tulsi Vivah ceremony not we that cans be performed from Prabodhini Ekadashi.\n",
            "Prediction: Kartik Purnima is also the last day to perform Tulsi Vivah ceremony that can be performed from Prabodhini Ekadashi.\n",
            "\n",
            "Source:     The name of thes Massachusett more indian tribe and their language (and thus the name of the Bay, Colony, Commonwealth/State, etc.\n",
            "Prediction: The name of the Massachusett Indian tribe and their language (and thus the name of the Bay, Colony, Commonwealth/State, etc.\n",
            "\n",
            "Source:     It is produce by Providers Motrack, and released on August 31,, 2009, in Denmark.\n",
            "Prediction: It was produced by Providers Motrack, and released on August 31, 2009, in Denmark.\n",
            "\n",
            "Source:     The section 1 Cor 14:34-35 is placed no after thhey 1 Cor 14:40, other manuscripts lake of you've he Western text-type (Claroiontanus, Boernerianus, 88,s itd, g, and.some manuscripts of Vulgate).\n",
            "Prediction: The section 1 Cor 14:34-35 is placed after the section 1 Cor 14:40, other manuscripts of the Western text-type (Claroiontanus, Boernerianus, 88, g, and some manuscripts of Vulgate).\n",
            "\n",
            "Source:     Since source is designed needn't to am copied from gnulib, they is not a library per-se, your as had'nt muche sa a.collection ofs portable idioms toes Be used in other projects.\n",
            "Prediction: Since the source is designed to be copied from gnulib, it is not a per-se library as much as a collection of portable idioms to be used in other projects.\n",
            "\n",
            "Source:     1987s On 1 September, at Sans Joses Valleys Veal & Beef, Santa Clara, California, thes ARMs claims responsibilities an arson for which cost $10,000 in damages.\n",
            "Prediction: 1987 On 1 September, at San Jose Valley Veal & Beef, Santa Clara, California, the ARM claims responsibility for an arson which cost $10,000 in damages.\n",
            "\n",
            "Source:     Jane ain but Peryam (1572–1620), after do o 3rd daughter, maried twice: firstly to Thomas' poyntzs (died of North 1597), Ockendon, Essex & Gray's Inn, osn of Sir Gabriel (died 1608), Poyntz of Norh Ockendon, Sheriff of Essex; secondly to theirs Thomas Docwra, Sheriff of Hertfordshire.\n",
            "Prediction: Jane Peryam (1572–1620), 3rd daughter, married twice: firstly to Thomas' poyntz (died of North Ockendon, Essex & Gray's Inn, son of Sir Gabriel (died 1608), Poyntz of Norh Ockendon, Sheriff of Essex; secondly to Thomas Docwra, Sheriff of Hertfordshire.\n",
            "\n",
            "Source:     In 2014 released The most Binaural Brainwave version of their movies Dark Bridge, his irst long feature film, entirely shot in Thailand.\n",
            "Prediction: In 2014 Binaural released the Brainwave version of his movie Dark Bridge, his first long feature film, entirely shot in Thailand.\n",
            "\n",
            "Source:     Enzklösterle. 1 December 2007, the Kaltenbronn Information Centre opened, providing a visitor centre and nature ark agteway fors the municipalities Gernsbach, of Bad Wildbad ands On\n",
            "Prediction: On 1 December 2007, the Kaltenbronn Information Centre opened, providing a visitor centre and nature area for the municipalities of Gernsbach, Bad Wildbad and Enzklösterle.\n",
            "\n",
            "Source:     The five veterans be will part of the roster that travels to Lyon, today for a three-game tournament.\n",
            "Prediction: The five veterans will be part of the roster that travels to Lyon, today for a three-game tournament.\n",
            "\n",
            "Source:     RVAH-12 / Colds War (post-Vietnam) With the end of teh Vietnam War, RVAH-12 returned to stateside trainings and.forward deploy Cold War presence operations aboards Fleet aircraft carriers.\n",
            "Prediction: RVAH-12 / Cold War (post-Vietnam) With the end of the Vietnam War, RVAH-12 returned to stateside training and forward deployed Cold War presence operations aboard Fleet aircraft carriers.\n",
            "\n",
            "Source:     Candidates The Statement Of Nominated was Persons released by thes of Bradford Council on 15 March.\n",
            "Prediction: Candidates The Statement of Nominated Persons was released by the Council of Bradford on 15 March.\n",
            "\n",
            "Source:     Dounia boutazout. (born 1981) is isn some more Moroccan actress.\n",
            "Prediction: Dounia boutazout (born 1981) is a Moroccan actress.\n",
            "\n",
            "Source:     It bears striking resemblance toes the firsts generation Volkswagen Tiguan.\n",
            "Prediction: It bears striking resemblance to the first generation Volkswagen Tiguan.\n",
            "\n",
            "Source:     Though the buildinga no loger stands, its memoriess remains in thes minds on of residents of Summerside.\n",
            "Prediction: Though the building has no log stands, its memories remain in the minds of residents of Summerside.\n",
            "\n",
            "Source:     1376 Baron. he finally step down as Chife In\n",
            "Prediction: In 1376 he finally step down as Chife Baron.\n",
            "\n",
            "Source:     Even when the story becomes contrived, we'll forgive at instantly\"\".\n",
            "Prediction: Even when the story becomes contrived, we'll forgive instantly\"\".\n",
            "\n",
            "Source:     Norbu state the Ming dynasty, with the hadn't preoccupied there itself Mongol threat the north, could notter additional spare forces to enforced or back rp their claim of sovereignties over Tibet; they relied instead, needn't shouldn't but on \"\"Confucina instruments of tribute relations\"\" of heaping unlimited number of titles and gifts on Tibetan lamas through they acts of diplomacy.\n",
            "Prediction: Norbu state the Ming dynasty, with the preoccupied Mongol threat to the north, could not afford additional spare forces to enforce or back their claim of sovereignties over Tibet; they relied instead, instead, on \"\"Confucina instruments of tribute relations\"\" of heaping unlimited number of titles and gifts on Tibetan lamas through acts of diplomacy.\n",
            "\n",
            "Source:     Shortlier afters the weddign volunteered he for the Special Oprations Executive, and began training in Peterborough before his yours you're first mission to France.\n",
            "Prediction: Shortly after the weddign he volunteered for the Special Oprations Executive, and began training in Peterborough before his first mission to France.\n",
            "\n",
            "Source:     The king will shen rise from throne and proceed to be the crowning.\n",
            "Prediction: The king will rise from the throne and proceed to be the crowning.\n",
            "\n",
            "Source:     Between 2011 and 2016, the population community's increased from 581 to 1,051, the second more largest percentage increase (80.\n",
            "Prediction: Between 2011 and 2016, the community's population increased from 581 to 1,051, the second largest percentage increase (80.\n",
            "\n",
            "Source:     Composer Sharreth was' thuss brought in to the do background score.\n",
            "Prediction: Composer Sharreth was thus brought in to the background score.\n",
            "\n",
            "Source:     This means that the Marcuss parabolass ins systems wiht G0 are shifted just to there do up or down in the G vs.\n",
            "Prediction: This means that the Marcus parabolass in systems with G0 are shifted just to up or down in the G vs.\n",
            "\n",
            "Source:     He thennest used threes lanterns to themselves superimpose these three black-and-white itages, each projected through the samest red, green and blue filters, to the produced the first caolour image of the ‘tartan ribbon’.\n",
            "Prediction: He then used three lanterns to superimpose these three black-and-white itages, each projected through the red, green and blue filters, to produce the first caolour image of the ‘tartan ribbon’.\n",
            "\n",
            "Source:     Adt 17:14 hrs ons hers 8 themselves May 1941 as the range ofs Pinguins dropped her disguise, ran up her battle flag, turned sharplier to by port to bring her full broadside ot bear and opened up with five guns simultaneously, straddling Cornwall.\n",
            "Prediction: At 17:14 hrs on 8 May 1941 as the range of Pinguins dropped her disguise, ran up her battle flag, turned sharply to port to bring her full broadside to bear and opened up with five guns simultaneously, straddling Cornwall.\n",
            "\n",
            "Source:     Of this shan't over aera, or 62.\n",
            "Prediction: Of this age, or 62.\n",
            "\n",
            "Source:     By 1880 the- shipping routes that was \"\"usually by steamers and others in,desiring o made the inland passage from Queens Charlotte Sound ot Entrance, is by way of Fitezhugh.Sound, Passage, Seaforth Channel,s Milbank Sound, Finlayson and Grenville channels, dna Chatham Sound tns Dixon Entrance\"\".s\n",
            "Prediction: By 1880 the shipping route that was usually made by steamers and others in refusing to make the inland passage from Queen Charlotte Sound to Entrance, is by way of Fitzhugh Sound, Passage, Seaforth Channel, Milbank Sound, Finlayson and Grenville channels, and Chatham Sound to Dixon Entrance\"\".\n",
            "\n",
            "Source:     5 April 1961, the Secretary-General hasn than criticised Belgians mercenaries for their service me in needn't Katanga and condemned Tshombe for turns the Katangese public against the United Nations Force.\n",
            "Prediction: On 5 April 1961, the Secretary-General criticised Belgian mercenaries for their service in Katanga and condemned Tshombe for turning the Katangese public against the United Nations Force.\n",
            "\n",
            "Source:     Coming out of ;spring training,. he and Rafael Betancourt were the,Indians' right-handed primary eighth-inning relievers.\n",
            "Prediction: Coming out of spring training, he and Rafael Betancourt were the Indians' right-handed primary eighth-inning relievers.\n",
            "\n",
            "Source:     In performances, the theses work isn't performed together with Cage's 1975-76 most orchestral ours is work Renga.\n",
            "Prediction: In these performances, the work is performed together with Cage's 1975-76 orchestral work Renga.\n",
            "\n",
            "Source:     yourselves William Manchester, ed.\n",
            "Prediction: William Manchester, ed.\n",
            "\n",
            "Source:     Prosthetics In 2014, APL made history with successful the uee d hadn't of the Modular Prosthetic Limb — some fully artificial articulated arm and hand — bies a bilateral shoulder-level amputee.\n",
            "Prediction: Prosthetics In 2014, APL made history with the successful use of the Modular Prosthetic Limb — a fully artificial articulated arm and hand — by a bilateral shoulder-level amputee.\n",
            "\n",
            "Source:     The same as below been done for 'Thamudic E' by Geraldine M.H. King, and this is does their now known as 'Hismaic'.\n",
            "Prediction: The same as below was done for 'Thamudic E' by Geraldine M.H. King, and this is now known as 'Hismaic'.\n",
            "\n",
            "Source:     Then near halftime a 1-yard husr by Tmi Hightower.\n",
            "Prediction: Then near halftime a 1-yard run by Tmi Hightower.\n",
            "\n",
            "Source:     This and related work on access earned him and their fadther, Ted Bergstrom, the SPARC Innovator award June 2007.\n",
            "Prediction: This and related work on access earned him and his father, Ted Bergstrom, the SPARC Innovation Award in June 2007.\n",
            "\n",
            "Source:     A barangays and ain Gil Montilla National High School ni Sipalay City are named after him.\n",
            "Prediction: A barangay and Gil Montilla National High School in Sipalay City are named after him.\n",
            "\n",
            "Source:     Frank Tip.\n",
            "Prediction: Frank Tip.\n",
            "\n",
            "Source:     Nick used the ancient Chinese symbol as knopwn the on Bagua his walk-out T-shirt and banner weren't that'lls wasn't for this fight.\n",
            "Prediction: Nick used the ancient Chinese symbol as knopwn on the Bagua walk-out on his T-shirt and banner for this fight.\n",
            "\n",
            "Source:     During 1882, whalt what Bjelland founded an export business.\n",
            "Prediction: During 1882, Bjelland founded an export business.\n",
            "\n",
            "Source:     The operating time of relay decreases with the increases in thes current.\n",
            "Prediction: The operating time of the relay decreases with the increase in the current.\n",
            "\n",
            "Source:     The of blands Panbride rere fragmented and through passed number some of hands froms those point, aend were gradually acquired by the Carnegie afmily, later to become the Earls of Northesk, in the 16th\n",
            "Prediction: The bland Panbride were fragmented and passed a number of hands from that point, and were gradually acquired by the Carnegie family, later to become the Earl of Northesk, in the 16th century.\n",
            "\n",
            "Source:     nromotioP Sia perform \"\"Bird Set freee\"\" and on the November 2015 of Episode Saturdays Night Live.\n",
            "Prediction: Comedy Sia performed \"\"Bird Set freee\"\" on the November 2015 episode of Saturday Night Live.\n",
            "\n",
            "Source:     2% under the age of 18, \"\"6.\n",
            "Prediction: 2% under the age of 18, 6.\n",
            "\n",
            "Source:     Todya, most authorities recognises these theirs been they three: pavoes muticu muticus, the \"\"Java peafowl\"\" (nominate).\n",
            "Prediction: Todya, authorities recognise these three pavo muticus, the \"\"Java peafowl\"\" (nominate).\n",
            "\n",
            "Source:     Hussein's claim than his for caliphate is ont accepted however, any and crn in 1925 he was driven Hejaz from y forces ofs Ibn Sauds duest his lack to of support for Shari'ah.\n",
            "Prediction: Hussein's claim for his caliphate is not accepted however, and in 1925 he was driven by Hejaz from the forces of Ibn Saud due to his lack of support for Shari'ah.\n",
            "\n",
            "Source:       s      s ,  s ! \n",
            "Prediction:                                                                \n",
            "\n",
            "Source:     The platorm is just over eights wide. metres\n",
            "Prediction: The platorm is just over eight metres wide.\n",
            "\n",
            "Source:     Division, o postseason ineligibilities of Both.Ohio Stnate and Penn State, thy played the third places team in the Leaders Wisconsin. Due\n",
            "Prediction: Due to ineligibility of both Ohio State and Penn State, they played the third place team in the Division, a postseason division, Wisconsin.\n",
            "\n",
            "Source:     .In the beginning, the Radicals opposed the appointment haven't ion ofs a neew king, Peters we Karaorevi, calling their appointment illegal.\n",
            "Prediction: In the beginning, the Radicals opposed the appointment of a new king, Peter Karaorevi, calling their appointment illegal.\n",
            "\n"
          ]
        }
      ]
    },
    {
      "cell_type": "markdown",
      "source": [
        "## Download and preprocess the BEA test data\n",
        "\n",
        "The original dataset comes from:\n",
        "https://www.cl.cam.ac.uk/research/nl/bea2019st/data/wi+locness_v2.1.bea19.tar.gz"
      ],
      "metadata": {
        "id": "8YdlbYYRLbBe"
      }
    },
    {
      "cell_type": "code",
      "source": [
        "! wget https://emalmi.kapsi.fi/gec/ABCN.test.bea19.orig"
      ],
      "metadata": {
        "id": "HGTSx4xtv7MU",
        "colab": {
          "base_uri": "https://localhost:8080/"
        },
        "outputId": "82835c67-9c51-4bda-9baa-6be559b4c2ea"
      },
      "execution_count": 28,
      "outputs": [
        {
          "output_type": "stream",
          "name": "stdout",
          "text": [
            "--2022-04-11 15:06:00--  https://emalmi.kapsi.fi/gec/ABCN.test.bea19.orig\n",
            "Resolving emalmi.kapsi.fi (emalmi.kapsi.fi)... 91.232.155.81, 2001:67c:1be8:1337::443\n",
            "Connecting to emalmi.kapsi.fi (emalmi.kapsi.fi)|91.232.155.81|:443... connected.\n",
            "HTTP request sent, awaiting response... 200 OK\n",
            "Length: 437326 (427K)\n",
            "Saving to: ‘ABCN.test.bea19.orig.3’\n",
            "\n",
            "ABCN.test.bea19.ori 100%[===================>] 427.08K  2.01MB/s    in 0.2s    \n",
            "\n",
            "2022-04-11 15:06:00 (2.01 MB/s) - ‘ABCN.test.bea19.orig.3’ saved [437326/437326]\n",
            "\n"
          ]
        }
      ]
    },
    {
      "cell_type": "code",
      "source": [
        "inference_batch_size = 512\n",
        "bea_dataset = read_dataset('ABCN.test.bea19.orig', contains_targets=False)\n",
        "tokenized_bea_dataset = bea_dataset.map(preprocess_function, batched=True)\n",
        "tf_bea_dataset = tokenized_bea_dataset.to_tf_dataset(\n",
        "    batch_size=inference_batch_size,\n",
        "    columns=[\"input_ids\", \"attention_mask\", \"labels\"],\n",
        "    shuffle=False,\n",
        "    collate_fn=data_collator)"
      ],
      "metadata": {
        "id": "5xuvQTHgmTx9",
        "colab": {
          "base_uri": "https://localhost:8080/",
          "height": 49,
          "referenced_widgets": [
            "2b37ff5765c0483298a47afb364bc32a",
            "0eec3f50631b4a04aaa4d70038d508f4",
            "f487386b29144d869601d6d2d223a017",
            "4ba71e9585fc439fb6ebfdc9e17f5f8c",
            "b84e568ed0604adc8b8dd84bb3b8078a",
            "c5f960fb20374e8fac0ea2156805506f",
            "0f4c43044c8547d0a8c80929d9485bb2",
            "af8c92d255044216b208d2eb8eee1cb1",
            "fa224860d7e7436a8128af5578362e31",
            "2f5fc71c6bc94e9abaa242038d999e8b",
            "d09260058fc04799bc1b77ea1165d0e8"
          ]
        },
        "outputId": "2b586594-daff-403f-a81a-2665ad252ddd"
      },
      "execution_count": 29,
      "outputs": [
        {
          "output_type": "display_data",
          "data": {
            "text/plain": [
              "  0%|          | 0/5 [00:00<?, ?ba/s]"
            ],
            "application/vnd.jupyter.widget-view+json": {
              "version_major": 2,
              "version_minor": 0,
              "model_id": "2b37ff5765c0483298a47afb364bc32a"
            }
          },
          "metadata": {}
        }
      ]
    },
    {
      "cell_type": "code",
      "source": [
        "%%time\n",
        "# Run inference\n",
        "sources, predictions = run_inference(model, tf_bea_dataset, tokenizer)\n",
        "\n",
        "print('Sample predictions:\\n')\n",
        "for source, pred in list(zip(sources, predictions))[20:40]:\n",
        "  print(f'{source}\\n{pred}\\n')"
      ],
      "metadata": {
        "id": "wKZezk6nrfuh",
        "colab": {
          "base_uri": "https://localhost:8080/"
        },
        "outputId": "9d061ce4-d544-4b84-eeca-6056436c80e9"
      },
      "execution_count": 34,
      "outputs": [
        {
          "output_type": "stream",
          "name": "stdout",
          "text": [
            "Batch: 0\n",
            "Batch: 1\n",
            "Batch: 2\n",
            "Batch: 3\n",
            "Batch: 4\n",
            "Batch: 5\n",
            "Batch: 6\n",
            "Batch: 7\n",
            "Batch: 8\n",
            "Sample predictions:\n",
            "\n",
            "What I'm sure about is the fact that I'm going to need an oficial certificate in order to prove that I've studied the language.\n",
            "What I am sure about is the fact that I am going to need an official certificate in order to prove that I have studied the language.\n",
            "\n",
            "I study English because I love it and I 'd like to speak very fluently and watch a movie without the subtitle.\n",
            "I study English because I love it and I'd like to speak fluently and watch a movie without the subtitle.\n",
            "\n",
            "I understand perfectly when a native speaker is talking but when I have to talk in English it's not so easy.\n",
            "I understand perfectly when a native speaker is talking but when I have to talk in English it's not so easy.\n",
            "\n",
            "I'm very motivated and I'm going to continue with my studies, but I need to have clear where I'm going.\n",
            "I am very motivated and I am going to continue with my studies, but I need to have clear where I am going.\n",
            "\n",
            "I 'd like to teach the language to little children.\n",
            "I would like to teach the language to little children.\n",
            "\n",
            "Next year, I'm going to focus on speaking and perhaps I do a formal test.\n",
            "Next year, I am going to focus on speaking and perhaps I do a formal test.\n",
            "\n",
            "Otherwise, I 'd like to improve my grammar and writing so I 'll keep on trying hard.\n",
            "Otherwise, I would like to improve my grammar and writing so I 'll keep on trying hard.\n",
            "\n",
            "Thank you for helping me.\n",
            "Thank you for helping me.\n",
            "\n",
            "The British parliamentary electoral system is unfair and undemocratic.\n",
            "The British parliamentary electoral system is unfair and undemocratic.\n",
            "\n",
            "It is, however, in my opinion, the best way for the basis of government.\n",
            "It is, however, in my opinion, the best way for the basis of government.\n",
            "\n",
            "Consider a general election, in which three parties stand, X, Y, and Z, in a country of 5000 voters.\n",
            "Consider a general election in which three parties stand, X, Y, and Z, in a country of 5000 voters.\n",
            "\n",
            "Supposing 2000 people vote for party X and 1500 vote for parties Y and Z. Party X would come into power because they had the most votes.\n",
            "Suposing 2000 people vote for party X and 1500 vote for party Y and Party Z. Party X would come into power because they had the most votes.\n",
            "\n",
            "However there were 3000 people who did not want them to be in power, which is not the majority of the country.\n",
            "However there were 3000 people who did not want them to be in power, which is not the majority of the country.\n",
            "\n",
            "Also, the idea of each constituency having an MP who fights for that constituency's beliefs in parliament.\n",
            "Also, the idea of each constituency has an MP who fights for that constituency's beliefs in parliament.\n",
            "\n",
            "This has major flaws.\n",
            "This has major flaws.\n",
            "\n",
            "Consider, for example, the MP who recently decided she wanted to change parties.\n",
            "Consider, for example, the MP who recently decided she wanted to change parties.\n",
            "\n",
            "Yes, I know it is the MP's belief's the constituents are meant to vote on the ideas of that MP but this simply isn't the case in many circumstances, the voter votes on how that party for which that MP represents is doing at the moment.\n",
            "Yes, I know it is the MP's belief's the constituents are meant to vote on the ideas of that MP but this simply is the case in many circumstances, the voter votes on how that party that MP represents is doing at the moment.\n",
            "\n",
            "Once a party is in government it is free to do as it likes, changing it's policies, until the next general election, at which point it will make hollow promises about what it will do when it next gets in power, just to gain votes.\n",
            "Once a party is in government it is free to do as it likes, changing its policies, until the next general election, at which point it will make hollow promises about what it will do when it next gets in power, just to gain votes.\n",
            "\n",
            "It is, as I said before, the best system.\n",
            "It is, as I said before, the best system.\n",
            "\n",
            "Consider dictatorships, this falls at the first hurdle.\n",
            "Consider dictatorship, this falls at the first hurdle.\n",
            "\n",
            "CPU times: user 1min 56s, sys: 6.54 s, total: 2min 3s\n",
            "Wall time: 2min 4s\n"
          ]
        }
      ]
    },
    {
      "cell_type": "markdown",
      "source": [
        "## Download the predictions locally as a zip file and upload them to: https://competitions.codalab.org/competitions/20228#participate\n",
        "\n",
        "NB: You need to sign up to the site before you can upload the predictions."
      ],
      "metadata": {
        "id": "kE7QqBwGvr7a"
      }
    },
    {
      "cell_type": "code",
      "source": [
        "import zipfile\n",
        "import datetime\n",
        "\n",
        "pred_fname = f'bea_predictions_{datetime.datetime.now().isoformat()}.txt'\n",
        "with open(pred_fname, 'w') as fout:\n",
        "  for pred in predictions:\n",
        "    fout.write(f'{pred}\\n')\n",
        "\n",
        "zip_fname = pred_fname + '.zip'\n",
        "zipfile.ZipFile(zip_fname, mode='w').write(pred_fname)\n",
        "files.download(zip_fname)"
      ],
      "metadata": {
        "id": "Fsg1J674FgQP",
        "colab": {
          "base_uri": "https://localhost:8080/",
          "height": 17
        },
        "outputId": "a62c76b1-61c1-4cd8-94bd-028aa0688088"
      },
      "execution_count": 31,
      "outputs": [
        {
          "output_type": "display_data",
          "data": {
            "text/plain": [
              "<IPython.core.display.Javascript object>"
            ],
            "application/javascript": [
              "\n",
              "    async function download(id, filename, size) {\n",
              "      if (!google.colab.kernel.accessAllowed) {\n",
              "        return;\n",
              "      }\n",
              "      const div = document.createElement('div');\n",
              "      const label = document.createElement('label');\n",
              "      label.textContent = `Downloading \"${filename}\": `;\n",
              "      div.appendChild(label);\n",
              "      const progress = document.createElement('progress');\n",
              "      progress.max = size;\n",
              "      div.appendChild(progress);\n",
              "      document.body.appendChild(div);\n",
              "\n",
              "      const buffers = [];\n",
              "      let downloaded = 0;\n",
              "\n",
              "      const channel = await google.colab.kernel.comms.open(id);\n",
              "      // Send a message to notify the kernel that we're ready.\n",
              "      channel.send({})\n",
              "\n",
              "      for await (const message of channel.messages) {\n",
              "        // Send a message to notify the kernel that we're ready.\n",
              "        channel.send({})\n",
              "        if (message.buffers) {\n",
              "          for (const buffer of message.buffers) {\n",
              "            buffers.push(buffer);\n",
              "            downloaded += buffer.byteLength;\n",
              "            progress.value = downloaded;\n",
              "          }\n",
              "        }\n",
              "      }\n",
              "      const blob = new Blob(buffers, {type: 'application/binary'});\n",
              "      const a = document.createElement('a');\n",
              "      a.href = window.URL.createObjectURL(blob);\n",
              "      a.download = filename;\n",
              "      div.appendChild(a);\n",
              "      a.click();\n",
              "      div.remove();\n",
              "    }\n",
              "  "
            ]
          },
          "metadata": {}
        },
        {
          "output_type": "display_data",
          "data": {
            "text/plain": [
              "<IPython.core.display.Javascript object>"
            ],
            "application/javascript": [
              "download(\"download_924ff117-c97d-40ac-899c-030a1cc7d955\", \"bea_predictions_2022-04-11T15:08:02.761916.txt.zip\", 427208)"
            ]
          },
          "metadata": {}
        }
      ]
    }
  ],
  "metadata": {
    "accelerator": "GPU",
    "colab": {
      "collapsed_sections": [],
      "name": "Copy of Aalto NLG Course Project: GEC model training",
      "provenance": [],
      "machine_shape": "hm"
    },
    "kernelspec": {
      "display_name": "Python 3 (ipykernel)",
      "language": "python",
      "name": "python3"
    },
    "language_info": {
      "codemirror_mode": {
        "name": "ipython",
        "version": 3
      },
      "file_extension": ".py",
      "mimetype": "text/x-python",
      "name": "python",
      "nbconvert_exporter": "python",
      "pygments_lexer": "ipython3",
      "version": "3.10.0"
    },
    "widgets": {
      "application/vnd.jupyter.widget-state+json": {
        "ab5bb50458e8468d963a7b8396999206": {
          "model_module": "@jupyter-widgets/controls",
          "model_name": "HBoxModel",
          "model_module_version": "1.5.0",
          "state": {
            "_dom_classes": [],
            "_model_module": "@jupyter-widgets/controls",
            "_model_module_version": "1.5.0",
            "_model_name": "HBoxModel",
            "_view_count": null,
            "_view_module": "@jupyter-widgets/controls",
            "_view_module_version": "1.5.0",
            "_view_name": "HBoxView",
            "box_style": "",
            "children": [
              "IPY_MODEL_142a63e2c3484ac8890c280ca7e1b1a8",
              "IPY_MODEL_ab1eaf43402a4f2aa67f569ded6242a6",
              "IPY_MODEL_03eadc0e642d4ee497194602cf50d43f"
            ],
            "layout": "IPY_MODEL_dd3fda561c63463bb4714eb273f2d9f8"
          }
        },
        "142a63e2c3484ac8890c280ca7e1b1a8": {
          "model_module": "@jupyter-widgets/controls",
          "model_name": "HTMLModel",
          "model_module_version": "1.5.0",
          "state": {
            "_dom_classes": [],
            "_model_module": "@jupyter-widgets/controls",
            "_model_module_version": "1.5.0",
            "_model_name": "HTMLModel",
            "_view_count": null,
            "_view_module": "@jupyter-widgets/controls",
            "_view_module_version": "1.5.0",
            "_view_name": "HTMLView",
            "description": "",
            "description_tooltip": null,
            "layout": "IPY_MODEL_b9d3e70a31444aaead0c85a0203ff640",
            "placeholder": "​",
            "style": "IPY_MODEL_72b4047371494b31bb587e712e6acda7",
            "value": "100%"
          }
        },
        "ab1eaf43402a4f2aa67f569ded6242a6": {
          "model_module": "@jupyter-widgets/controls",
          "model_name": "FloatProgressModel",
          "model_module_version": "1.5.0",
          "state": {
            "_dom_classes": [],
            "_model_module": "@jupyter-widgets/controls",
            "_model_module_version": "1.5.0",
            "_model_name": "FloatProgressModel",
            "_view_count": null,
            "_view_module": "@jupyter-widgets/controls",
            "_view_module_version": "1.5.0",
            "_view_name": "ProgressView",
            "bar_style": "success",
            "description": "",
            "description_tooltip": null,
            "layout": "IPY_MODEL_ab29df5dcfe74a329c00ed4713918c15",
            "max": 103,
            "min": 0,
            "orientation": "horizontal",
            "style": "IPY_MODEL_2eec676cff824a8cb9a0ab5c0074b4aa",
            "value": 103
          }
        },
        "03eadc0e642d4ee497194602cf50d43f": {
          "model_module": "@jupyter-widgets/controls",
          "model_name": "HTMLModel",
          "model_module_version": "1.5.0",
          "state": {
            "_dom_classes": [],
            "_model_module": "@jupyter-widgets/controls",
            "_model_module_version": "1.5.0",
            "_model_name": "HTMLModel",
            "_view_count": null,
            "_view_module": "@jupyter-widgets/controls",
            "_view_module_version": "1.5.0",
            "_view_name": "HTMLView",
            "description": "",
            "description_tooltip": null,
            "layout": "IPY_MODEL_5df15fe72e724a509f41034f554f717f",
            "placeholder": "​",
            "style": "IPY_MODEL_b794db96cad64d99a8fef5ee24245946",
            "value": " 103/103 [00:11&lt;00:00,  9.33ba/s]"
          }
        },
        "dd3fda561c63463bb4714eb273f2d9f8": {
          "model_module": "@jupyter-widgets/base",
          "model_name": "LayoutModel",
          "model_module_version": "1.2.0",
          "state": {
            "_model_module": "@jupyter-widgets/base",
            "_model_module_version": "1.2.0",
            "_model_name": "LayoutModel",
            "_view_count": null,
            "_view_module": "@jupyter-widgets/base",
            "_view_module_version": "1.2.0",
            "_view_name": "LayoutView",
            "align_content": null,
            "align_items": null,
            "align_self": null,
            "border": null,
            "bottom": null,
            "display": null,
            "flex": null,
            "flex_flow": null,
            "grid_area": null,
            "grid_auto_columns": null,
            "grid_auto_flow": null,
            "grid_auto_rows": null,
            "grid_column": null,
            "grid_gap": null,
            "grid_row": null,
            "grid_template_areas": null,
            "grid_template_columns": null,
            "grid_template_rows": null,
            "height": null,
            "justify_content": null,
            "justify_items": null,
            "left": null,
            "margin": null,
            "max_height": null,
            "max_width": null,
            "min_height": null,
            "min_width": null,
            "object_fit": null,
            "object_position": null,
            "order": null,
            "overflow": null,
            "overflow_x": null,
            "overflow_y": null,
            "padding": null,
            "right": null,
            "top": null,
            "visibility": null,
            "width": null
          }
        },
        "b9d3e70a31444aaead0c85a0203ff640": {
          "model_module": "@jupyter-widgets/base",
          "model_name": "LayoutModel",
          "model_module_version": "1.2.0",
          "state": {
            "_model_module": "@jupyter-widgets/base",
            "_model_module_version": "1.2.0",
            "_model_name": "LayoutModel",
            "_view_count": null,
            "_view_module": "@jupyter-widgets/base",
            "_view_module_version": "1.2.0",
            "_view_name": "LayoutView",
            "align_content": null,
            "align_items": null,
            "align_self": null,
            "border": null,
            "bottom": null,
            "display": null,
            "flex": null,
            "flex_flow": null,
            "grid_area": null,
            "grid_auto_columns": null,
            "grid_auto_flow": null,
            "grid_auto_rows": null,
            "grid_column": null,
            "grid_gap": null,
            "grid_row": null,
            "grid_template_areas": null,
            "grid_template_columns": null,
            "grid_template_rows": null,
            "height": null,
            "justify_content": null,
            "justify_items": null,
            "left": null,
            "margin": null,
            "max_height": null,
            "max_width": null,
            "min_height": null,
            "min_width": null,
            "object_fit": null,
            "object_position": null,
            "order": null,
            "overflow": null,
            "overflow_x": null,
            "overflow_y": null,
            "padding": null,
            "right": null,
            "top": null,
            "visibility": null,
            "width": null
          }
        },
        "72b4047371494b31bb587e712e6acda7": {
          "model_module": "@jupyter-widgets/controls",
          "model_name": "DescriptionStyleModel",
          "model_module_version": "1.5.0",
          "state": {
            "_model_module": "@jupyter-widgets/controls",
            "_model_module_version": "1.5.0",
            "_model_name": "DescriptionStyleModel",
            "_view_count": null,
            "_view_module": "@jupyter-widgets/base",
            "_view_module_version": "1.2.0",
            "_view_name": "StyleView",
            "description_width": ""
          }
        },
        "ab29df5dcfe74a329c00ed4713918c15": {
          "model_module": "@jupyter-widgets/base",
          "model_name": "LayoutModel",
          "model_module_version": "1.2.0",
          "state": {
            "_model_module": "@jupyter-widgets/base",
            "_model_module_version": "1.2.0",
            "_model_name": "LayoutModel",
            "_view_count": null,
            "_view_module": "@jupyter-widgets/base",
            "_view_module_version": "1.2.0",
            "_view_name": "LayoutView",
            "align_content": null,
            "align_items": null,
            "align_self": null,
            "border": null,
            "bottom": null,
            "display": null,
            "flex": null,
            "flex_flow": null,
            "grid_area": null,
            "grid_auto_columns": null,
            "grid_auto_flow": null,
            "grid_auto_rows": null,
            "grid_column": null,
            "grid_gap": null,
            "grid_row": null,
            "grid_template_areas": null,
            "grid_template_columns": null,
            "grid_template_rows": null,
            "height": null,
            "justify_content": null,
            "justify_items": null,
            "left": null,
            "margin": null,
            "max_height": null,
            "max_width": null,
            "min_height": null,
            "min_width": null,
            "object_fit": null,
            "object_position": null,
            "order": null,
            "overflow": null,
            "overflow_x": null,
            "overflow_y": null,
            "padding": null,
            "right": null,
            "top": null,
            "visibility": null,
            "width": null
          }
        },
        "2eec676cff824a8cb9a0ab5c0074b4aa": {
          "model_module": "@jupyter-widgets/controls",
          "model_name": "ProgressStyleModel",
          "model_module_version": "1.5.0",
          "state": {
            "_model_module": "@jupyter-widgets/controls",
            "_model_module_version": "1.5.0",
            "_model_name": "ProgressStyleModel",
            "_view_count": null,
            "_view_module": "@jupyter-widgets/base",
            "_view_module_version": "1.2.0",
            "_view_name": "StyleView",
            "bar_color": null,
            "description_width": ""
          }
        },
        "5df15fe72e724a509f41034f554f717f": {
          "model_module": "@jupyter-widgets/base",
          "model_name": "LayoutModel",
          "model_module_version": "1.2.0",
          "state": {
            "_model_module": "@jupyter-widgets/base",
            "_model_module_version": "1.2.0",
            "_model_name": "LayoutModel",
            "_view_count": null,
            "_view_module": "@jupyter-widgets/base",
            "_view_module_version": "1.2.0",
            "_view_name": "LayoutView",
            "align_content": null,
            "align_items": null,
            "align_self": null,
            "border": null,
            "bottom": null,
            "display": null,
            "flex": null,
            "flex_flow": null,
            "grid_area": null,
            "grid_auto_columns": null,
            "grid_auto_flow": null,
            "grid_auto_rows": null,
            "grid_column": null,
            "grid_gap": null,
            "grid_row": null,
            "grid_template_areas": null,
            "grid_template_columns": null,
            "grid_template_rows": null,
            "height": null,
            "justify_content": null,
            "justify_items": null,
            "left": null,
            "margin": null,
            "max_height": null,
            "max_width": null,
            "min_height": null,
            "min_width": null,
            "object_fit": null,
            "object_position": null,
            "order": null,
            "overflow": null,
            "overflow_x": null,
            "overflow_y": null,
            "padding": null,
            "right": null,
            "top": null,
            "visibility": null,
            "width": null
          }
        },
        "b794db96cad64d99a8fef5ee24245946": {
          "model_module": "@jupyter-widgets/controls",
          "model_name": "DescriptionStyleModel",
          "model_module_version": "1.5.0",
          "state": {
            "_model_module": "@jupyter-widgets/controls",
            "_model_module_version": "1.5.0",
            "_model_name": "DescriptionStyleModel",
            "_view_count": null,
            "_view_module": "@jupyter-widgets/base",
            "_view_module_version": "1.2.0",
            "_view_name": "StyleView",
            "description_width": ""
          }
        },
        "ec1550d64c7449a0bec394f4ce7adc51": {
          "model_module": "@jupyter-widgets/controls",
          "model_name": "HBoxModel",
          "model_module_version": "1.5.0",
          "state": {
            "_dom_classes": [],
            "_model_module": "@jupyter-widgets/controls",
            "_model_module_version": "1.5.0",
            "_model_name": "HBoxModel",
            "_view_count": null,
            "_view_module": "@jupyter-widgets/controls",
            "_view_module_version": "1.5.0",
            "_view_name": "HBoxView",
            "box_style": "",
            "children": [
              "IPY_MODEL_6421342be04646df9da84dde47bcb973",
              "IPY_MODEL_57401d7b369b46d2a2b86597ac6dcb41",
              "IPY_MODEL_b04fc6d6e90d4cb9a6b109221d07d40c"
            ],
            "layout": "IPY_MODEL_936cc71cd4f84db08821a715d440b739"
          }
        },
        "6421342be04646df9da84dde47bcb973": {
          "model_module": "@jupyter-widgets/controls",
          "model_name": "HTMLModel",
          "model_module_version": "1.5.0",
          "state": {
            "_dom_classes": [],
            "_model_module": "@jupyter-widgets/controls",
            "_model_module_version": "1.5.0",
            "_model_name": "HTMLModel",
            "_view_count": null,
            "_view_module": "@jupyter-widgets/controls",
            "_view_module_version": "1.5.0",
            "_view_name": "HTMLView",
            "description": "",
            "description_tooltip": null,
            "layout": "IPY_MODEL_b9bc197f12dd43d18b970f1ede52d73b",
            "placeholder": "​",
            "style": "IPY_MODEL_2fd83b2e07e8428caacccfeba4438d29",
            "value": "100%"
          }
        },
        "57401d7b369b46d2a2b86597ac6dcb41": {
          "model_module": "@jupyter-widgets/controls",
          "model_name": "FloatProgressModel",
          "model_module_version": "1.5.0",
          "state": {
            "_dom_classes": [],
            "_model_module": "@jupyter-widgets/controls",
            "_model_module_version": "1.5.0",
            "_model_name": "FloatProgressModel",
            "_view_count": null,
            "_view_module": "@jupyter-widgets/controls",
            "_view_module_version": "1.5.0",
            "_view_name": "ProgressView",
            "bar_style": "success",
            "description": "",
            "description_tooltip": null,
            "layout": "IPY_MODEL_f07116dad6644adea3701b71e65654d6",
            "max": 1,
            "min": 0,
            "orientation": "horizontal",
            "style": "IPY_MODEL_d72cbce9d16949adbed381de578de475",
            "value": 1
          }
        },
        "b04fc6d6e90d4cb9a6b109221d07d40c": {
          "model_module": "@jupyter-widgets/controls",
          "model_name": "HTMLModel",
          "model_module_version": "1.5.0",
          "state": {
            "_dom_classes": [],
            "_model_module": "@jupyter-widgets/controls",
            "_model_module_version": "1.5.0",
            "_model_name": "HTMLModel",
            "_view_count": null,
            "_view_module": "@jupyter-widgets/controls",
            "_view_module_version": "1.5.0",
            "_view_name": "HTMLView",
            "description": "",
            "description_tooltip": null,
            "layout": "IPY_MODEL_87e6deb2001c453fab80435de3685f76",
            "placeholder": "​",
            "style": "IPY_MODEL_ae46c60c618d4a40ba7b64106bcc574c",
            "value": " 1/1 [00:00&lt;00:00, 17.33ba/s]"
          }
        },
        "936cc71cd4f84db08821a715d440b739": {
          "model_module": "@jupyter-widgets/base",
          "model_name": "LayoutModel",
          "model_module_version": "1.2.0",
          "state": {
            "_model_module": "@jupyter-widgets/base",
            "_model_module_version": "1.2.0",
            "_model_name": "LayoutModel",
            "_view_count": null,
            "_view_module": "@jupyter-widgets/base",
            "_view_module_version": "1.2.0",
            "_view_name": "LayoutView",
            "align_content": null,
            "align_items": null,
            "align_self": null,
            "border": null,
            "bottom": null,
            "display": null,
            "flex": null,
            "flex_flow": null,
            "grid_area": null,
            "grid_auto_columns": null,
            "grid_auto_flow": null,
            "grid_auto_rows": null,
            "grid_column": null,
            "grid_gap": null,
            "grid_row": null,
            "grid_template_areas": null,
            "grid_template_columns": null,
            "grid_template_rows": null,
            "height": null,
            "justify_content": null,
            "justify_items": null,
            "left": null,
            "margin": null,
            "max_height": null,
            "max_width": null,
            "min_height": null,
            "min_width": null,
            "object_fit": null,
            "object_position": null,
            "order": null,
            "overflow": null,
            "overflow_x": null,
            "overflow_y": null,
            "padding": null,
            "right": null,
            "top": null,
            "visibility": null,
            "width": null
          }
        },
        "b9bc197f12dd43d18b970f1ede52d73b": {
          "model_module": "@jupyter-widgets/base",
          "model_name": "LayoutModel",
          "model_module_version": "1.2.0",
          "state": {
            "_model_module": "@jupyter-widgets/base",
            "_model_module_version": "1.2.0",
            "_model_name": "LayoutModel",
            "_view_count": null,
            "_view_module": "@jupyter-widgets/base",
            "_view_module_version": "1.2.0",
            "_view_name": "LayoutView",
            "align_content": null,
            "align_items": null,
            "align_self": null,
            "border": null,
            "bottom": null,
            "display": null,
            "flex": null,
            "flex_flow": null,
            "grid_area": null,
            "grid_auto_columns": null,
            "grid_auto_flow": null,
            "grid_auto_rows": null,
            "grid_column": null,
            "grid_gap": null,
            "grid_row": null,
            "grid_template_areas": null,
            "grid_template_columns": null,
            "grid_template_rows": null,
            "height": null,
            "justify_content": null,
            "justify_items": null,
            "left": null,
            "margin": null,
            "max_height": null,
            "max_width": null,
            "min_height": null,
            "min_width": null,
            "object_fit": null,
            "object_position": null,
            "order": null,
            "overflow": null,
            "overflow_x": null,
            "overflow_y": null,
            "padding": null,
            "right": null,
            "top": null,
            "visibility": null,
            "width": null
          }
        },
        "2fd83b2e07e8428caacccfeba4438d29": {
          "model_module": "@jupyter-widgets/controls",
          "model_name": "DescriptionStyleModel",
          "model_module_version": "1.5.0",
          "state": {
            "_model_module": "@jupyter-widgets/controls",
            "_model_module_version": "1.5.0",
            "_model_name": "DescriptionStyleModel",
            "_view_count": null,
            "_view_module": "@jupyter-widgets/base",
            "_view_module_version": "1.2.0",
            "_view_name": "StyleView",
            "description_width": ""
          }
        },
        "f07116dad6644adea3701b71e65654d6": {
          "model_module": "@jupyter-widgets/base",
          "model_name": "LayoutModel",
          "model_module_version": "1.2.0",
          "state": {
            "_model_module": "@jupyter-widgets/base",
            "_model_module_version": "1.2.0",
            "_model_name": "LayoutModel",
            "_view_count": null,
            "_view_module": "@jupyter-widgets/base",
            "_view_module_version": "1.2.0",
            "_view_name": "LayoutView",
            "align_content": null,
            "align_items": null,
            "align_self": null,
            "border": null,
            "bottom": null,
            "display": null,
            "flex": null,
            "flex_flow": null,
            "grid_area": null,
            "grid_auto_columns": null,
            "grid_auto_flow": null,
            "grid_auto_rows": null,
            "grid_column": null,
            "grid_gap": null,
            "grid_row": null,
            "grid_template_areas": null,
            "grid_template_columns": null,
            "grid_template_rows": null,
            "height": null,
            "justify_content": null,
            "justify_items": null,
            "left": null,
            "margin": null,
            "max_height": null,
            "max_width": null,
            "min_height": null,
            "min_width": null,
            "object_fit": null,
            "object_position": null,
            "order": null,
            "overflow": null,
            "overflow_x": null,
            "overflow_y": null,
            "padding": null,
            "right": null,
            "top": null,
            "visibility": null,
            "width": null
          }
        },
        "d72cbce9d16949adbed381de578de475": {
          "model_module": "@jupyter-widgets/controls",
          "model_name": "ProgressStyleModel",
          "model_module_version": "1.5.0",
          "state": {
            "_model_module": "@jupyter-widgets/controls",
            "_model_module_version": "1.5.0",
            "_model_name": "ProgressStyleModel",
            "_view_count": null,
            "_view_module": "@jupyter-widgets/base",
            "_view_module_version": "1.2.0",
            "_view_name": "StyleView",
            "bar_color": null,
            "description_width": ""
          }
        },
        "87e6deb2001c453fab80435de3685f76": {
          "model_module": "@jupyter-widgets/base",
          "model_name": "LayoutModel",
          "model_module_version": "1.2.0",
          "state": {
            "_model_module": "@jupyter-widgets/base",
            "_model_module_version": "1.2.0",
            "_model_name": "LayoutModel",
            "_view_count": null,
            "_view_module": "@jupyter-widgets/base",
            "_view_module_version": "1.2.0",
            "_view_name": "LayoutView",
            "align_content": null,
            "align_items": null,
            "align_self": null,
            "border": null,
            "bottom": null,
            "display": null,
            "flex": null,
            "flex_flow": null,
            "grid_area": null,
            "grid_auto_columns": null,
            "grid_auto_flow": null,
            "grid_auto_rows": null,
            "grid_column": null,
            "grid_gap": null,
            "grid_row": null,
            "grid_template_areas": null,
            "grid_template_columns": null,
            "grid_template_rows": null,
            "height": null,
            "justify_content": null,
            "justify_items": null,
            "left": null,
            "margin": null,
            "max_height": null,
            "max_width": null,
            "min_height": null,
            "min_width": null,
            "object_fit": null,
            "object_position": null,
            "order": null,
            "overflow": null,
            "overflow_x": null,
            "overflow_y": null,
            "padding": null,
            "right": null,
            "top": null,
            "visibility": null,
            "width": null
          }
        },
        "ae46c60c618d4a40ba7b64106bcc574c": {
          "model_module": "@jupyter-widgets/controls",
          "model_name": "DescriptionStyleModel",
          "model_module_version": "1.5.0",
          "state": {
            "_model_module": "@jupyter-widgets/controls",
            "_model_module_version": "1.5.0",
            "_model_name": "DescriptionStyleModel",
            "_view_count": null,
            "_view_module": "@jupyter-widgets/base",
            "_view_module_version": "1.2.0",
            "_view_name": "StyleView",
            "description_width": ""
          }
        },
        "2b37ff5765c0483298a47afb364bc32a": {
          "model_module": "@jupyter-widgets/controls",
          "model_name": "HBoxModel",
          "model_module_version": "1.5.0",
          "state": {
            "_dom_classes": [],
            "_model_module": "@jupyter-widgets/controls",
            "_model_module_version": "1.5.0",
            "_model_name": "HBoxModel",
            "_view_count": null,
            "_view_module": "@jupyter-widgets/controls",
            "_view_module_version": "1.5.0",
            "_view_name": "HBoxView",
            "box_style": "",
            "children": [
              "IPY_MODEL_0eec3f50631b4a04aaa4d70038d508f4",
              "IPY_MODEL_f487386b29144d869601d6d2d223a017",
              "IPY_MODEL_4ba71e9585fc439fb6ebfdc9e17f5f8c"
            ],
            "layout": "IPY_MODEL_b84e568ed0604adc8b8dd84bb3b8078a"
          }
        },
        "0eec3f50631b4a04aaa4d70038d508f4": {
          "model_module": "@jupyter-widgets/controls",
          "model_name": "HTMLModel",
          "model_module_version": "1.5.0",
          "state": {
            "_dom_classes": [],
            "_model_module": "@jupyter-widgets/controls",
            "_model_module_version": "1.5.0",
            "_model_name": "HTMLModel",
            "_view_count": null,
            "_view_module": "@jupyter-widgets/controls",
            "_view_module_version": "1.5.0",
            "_view_name": "HTMLView",
            "description": "",
            "description_tooltip": null,
            "layout": "IPY_MODEL_c5f960fb20374e8fac0ea2156805506f",
            "placeholder": "​",
            "style": "IPY_MODEL_0f4c43044c8547d0a8c80929d9485bb2",
            "value": "100%"
          }
        },
        "f487386b29144d869601d6d2d223a017": {
          "model_module": "@jupyter-widgets/controls",
          "model_name": "FloatProgressModel",
          "model_module_version": "1.5.0",
          "state": {
            "_dom_classes": [],
            "_model_module": "@jupyter-widgets/controls",
            "_model_module_version": "1.5.0",
            "_model_name": "FloatProgressModel",
            "_view_count": null,
            "_view_module": "@jupyter-widgets/controls",
            "_view_module_version": "1.5.0",
            "_view_name": "ProgressView",
            "bar_style": "success",
            "description": "",
            "description_tooltip": null,
            "layout": "IPY_MODEL_af8c92d255044216b208d2eb8eee1cb1",
            "max": 5,
            "min": 0,
            "orientation": "horizontal",
            "style": "IPY_MODEL_fa224860d7e7436a8128af5578362e31",
            "value": 5
          }
        },
        "4ba71e9585fc439fb6ebfdc9e17f5f8c": {
          "model_module": "@jupyter-widgets/controls",
          "model_name": "HTMLModel",
          "model_module_version": "1.5.0",
          "state": {
            "_dom_classes": [],
            "_model_module": "@jupyter-widgets/controls",
            "_model_module_version": "1.5.0",
            "_model_name": "HTMLModel",
            "_view_count": null,
            "_view_module": "@jupyter-widgets/controls",
            "_view_module_version": "1.5.0",
            "_view_name": "HTMLView",
            "description": "",
            "description_tooltip": null,
            "layout": "IPY_MODEL_2f5fc71c6bc94e9abaa242038d999e8b",
            "placeholder": "​",
            "style": "IPY_MODEL_d09260058fc04799bc1b77ea1165d0e8",
            "value": " 5/5 [00:00&lt;00:00, 21.91ba/s]"
          }
        },
        "b84e568ed0604adc8b8dd84bb3b8078a": {
          "model_module": "@jupyter-widgets/base",
          "model_name": "LayoutModel",
          "model_module_version": "1.2.0",
          "state": {
            "_model_module": "@jupyter-widgets/base",
            "_model_module_version": "1.2.0",
            "_model_name": "LayoutModel",
            "_view_count": null,
            "_view_module": "@jupyter-widgets/base",
            "_view_module_version": "1.2.0",
            "_view_name": "LayoutView",
            "align_content": null,
            "align_items": null,
            "align_self": null,
            "border": null,
            "bottom": null,
            "display": null,
            "flex": null,
            "flex_flow": null,
            "grid_area": null,
            "grid_auto_columns": null,
            "grid_auto_flow": null,
            "grid_auto_rows": null,
            "grid_column": null,
            "grid_gap": null,
            "grid_row": null,
            "grid_template_areas": null,
            "grid_template_columns": null,
            "grid_template_rows": null,
            "height": null,
            "justify_content": null,
            "justify_items": null,
            "left": null,
            "margin": null,
            "max_height": null,
            "max_width": null,
            "min_height": null,
            "min_width": null,
            "object_fit": null,
            "object_position": null,
            "order": null,
            "overflow": null,
            "overflow_x": null,
            "overflow_y": null,
            "padding": null,
            "right": null,
            "top": null,
            "visibility": null,
            "width": null
          }
        },
        "c5f960fb20374e8fac0ea2156805506f": {
          "model_module": "@jupyter-widgets/base",
          "model_name": "LayoutModel",
          "model_module_version": "1.2.0",
          "state": {
            "_model_module": "@jupyter-widgets/base",
            "_model_module_version": "1.2.0",
            "_model_name": "LayoutModel",
            "_view_count": null,
            "_view_module": "@jupyter-widgets/base",
            "_view_module_version": "1.2.0",
            "_view_name": "LayoutView",
            "align_content": null,
            "align_items": null,
            "align_self": null,
            "border": null,
            "bottom": null,
            "display": null,
            "flex": null,
            "flex_flow": null,
            "grid_area": null,
            "grid_auto_columns": null,
            "grid_auto_flow": null,
            "grid_auto_rows": null,
            "grid_column": null,
            "grid_gap": null,
            "grid_row": null,
            "grid_template_areas": null,
            "grid_template_columns": null,
            "grid_template_rows": null,
            "height": null,
            "justify_content": null,
            "justify_items": null,
            "left": null,
            "margin": null,
            "max_height": null,
            "max_width": null,
            "min_height": null,
            "min_width": null,
            "object_fit": null,
            "object_position": null,
            "order": null,
            "overflow": null,
            "overflow_x": null,
            "overflow_y": null,
            "padding": null,
            "right": null,
            "top": null,
            "visibility": null,
            "width": null
          }
        },
        "0f4c43044c8547d0a8c80929d9485bb2": {
          "model_module": "@jupyter-widgets/controls",
          "model_name": "DescriptionStyleModel",
          "model_module_version": "1.5.0",
          "state": {
            "_model_module": "@jupyter-widgets/controls",
            "_model_module_version": "1.5.0",
            "_model_name": "DescriptionStyleModel",
            "_view_count": null,
            "_view_module": "@jupyter-widgets/base",
            "_view_module_version": "1.2.0",
            "_view_name": "StyleView",
            "description_width": ""
          }
        },
        "af8c92d255044216b208d2eb8eee1cb1": {
          "model_module": "@jupyter-widgets/base",
          "model_name": "LayoutModel",
          "model_module_version": "1.2.0",
          "state": {
            "_model_module": "@jupyter-widgets/base",
            "_model_module_version": "1.2.0",
            "_model_name": "LayoutModel",
            "_view_count": null,
            "_view_module": "@jupyter-widgets/base",
            "_view_module_version": "1.2.0",
            "_view_name": "LayoutView",
            "align_content": null,
            "align_items": null,
            "align_self": null,
            "border": null,
            "bottom": null,
            "display": null,
            "flex": null,
            "flex_flow": null,
            "grid_area": null,
            "grid_auto_columns": null,
            "grid_auto_flow": null,
            "grid_auto_rows": null,
            "grid_column": null,
            "grid_gap": null,
            "grid_row": null,
            "grid_template_areas": null,
            "grid_template_columns": null,
            "grid_template_rows": null,
            "height": null,
            "justify_content": null,
            "justify_items": null,
            "left": null,
            "margin": null,
            "max_height": null,
            "max_width": null,
            "min_height": null,
            "min_width": null,
            "object_fit": null,
            "object_position": null,
            "order": null,
            "overflow": null,
            "overflow_x": null,
            "overflow_y": null,
            "padding": null,
            "right": null,
            "top": null,
            "visibility": null,
            "width": null
          }
        },
        "fa224860d7e7436a8128af5578362e31": {
          "model_module": "@jupyter-widgets/controls",
          "model_name": "ProgressStyleModel",
          "model_module_version": "1.5.0",
          "state": {
            "_model_module": "@jupyter-widgets/controls",
            "_model_module_version": "1.5.0",
            "_model_name": "ProgressStyleModel",
            "_view_count": null,
            "_view_module": "@jupyter-widgets/base",
            "_view_module_version": "1.2.0",
            "_view_name": "StyleView",
            "bar_color": null,
            "description_width": ""
          }
        },
        "2f5fc71c6bc94e9abaa242038d999e8b": {
          "model_module": "@jupyter-widgets/base",
          "model_name": "LayoutModel",
          "model_module_version": "1.2.0",
          "state": {
            "_model_module": "@jupyter-widgets/base",
            "_model_module_version": "1.2.0",
            "_model_name": "LayoutModel",
            "_view_count": null,
            "_view_module": "@jupyter-widgets/base",
            "_view_module_version": "1.2.0",
            "_view_name": "LayoutView",
            "align_content": null,
            "align_items": null,
            "align_self": null,
            "border": null,
            "bottom": null,
            "display": null,
            "flex": null,
            "flex_flow": null,
            "grid_area": null,
            "grid_auto_columns": null,
            "grid_auto_flow": null,
            "grid_auto_rows": null,
            "grid_column": null,
            "grid_gap": null,
            "grid_row": null,
            "grid_template_areas": null,
            "grid_template_columns": null,
            "grid_template_rows": null,
            "height": null,
            "justify_content": null,
            "justify_items": null,
            "left": null,
            "margin": null,
            "max_height": null,
            "max_width": null,
            "min_height": null,
            "min_width": null,
            "object_fit": null,
            "object_position": null,
            "order": null,
            "overflow": null,
            "overflow_x": null,
            "overflow_y": null,
            "padding": null,
            "right": null,
            "top": null,
            "visibility": null,
            "width": null
          }
        },
        "d09260058fc04799bc1b77ea1165d0e8": {
          "model_module": "@jupyter-widgets/controls",
          "model_name": "DescriptionStyleModel",
          "model_module_version": "1.5.0",
          "state": {
            "_model_module": "@jupyter-widgets/controls",
            "_model_module_version": "1.5.0",
            "_model_name": "DescriptionStyleModel",
            "_view_count": null,
            "_view_module": "@jupyter-widgets/base",
            "_view_module_version": "1.2.0",
            "_view_name": "StyleView",
            "description_width": ""
          }
        }
      }
    }
  },
  "nbformat": 4,
  "nbformat_minor": 0
}